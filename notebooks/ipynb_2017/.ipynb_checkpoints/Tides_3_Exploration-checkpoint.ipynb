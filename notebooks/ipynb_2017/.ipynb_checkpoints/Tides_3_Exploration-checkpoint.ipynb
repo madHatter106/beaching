{
 "cells": [
  {
   "cell_type": "code",
   "execution_count": 6,
   "metadata": {
    "collapsed": true
   },
   "outputs": [],
   "source": [
    "import pandas as pd\n",
    "import numpy as np\n",
    "import matplotlib.pyplot as pl\n",
    "from sklearn.preprocessing import StandardScaler\n",
    "from sklearn.decomposition import PCA\n",
    "from seaborn import heatmap"
   ]
  },
  {
   "cell_type": "code",
   "execution_count": 2,
   "metadata": {
    "collapsed": true
   },
   "outputs": [],
   "source": [
    "%matplotlib inline"
   ]
  },
  {
   "cell_type": "code",
   "execution_count": 3,
   "metadata": {
    "collapsed": true
   },
   "outputs": [],
   "source": [
    "df = pd.read_pickle('../PklJar/dfTidesDaily.pkl')"
   ]
  },
  {
   "cell_type": "code",
   "execution_count": 4,
   "metadata": {},
   "outputs": [
    {
     "data": {
      "text/html": [
       "<div>\n",
       "<style>\n",
       "    .dataframe thead tr:only-child th {\n",
       "        text-align: right;\n",
       "    }\n",
       "\n",
       "    .dataframe thead th {\n",
       "        text-align: left;\n",
       "    }\n",
       "\n",
       "    .dataframe tbody tr th {\n",
       "        vertical-align: top;\n",
       "    }\n",
       "</style>\n",
       "<table border=\"1\" class=\"dataframe\">\n",
       "  <thead>\n",
       "    <tr style=\"text-align: right;\">\n",
       "      <th></th>\n",
       "      <th>Pred_min</th>\n",
       "      <th>ampDiff_min</th>\n",
       "      <th>vel_min</th>\n",
       "      <th>move_min</th>\n",
       "      <th>Pred_max</th>\n",
       "      <th>ampDiff_max</th>\n",
       "      <th>vel_max</th>\n",
       "      <th>move_max</th>\n",
       "      <th>Pred_std</th>\n",
       "      <th>ampDiff_std</th>\n",
       "      <th>vel_std</th>\n",
       "      <th>move_std</th>\n",
       "      <th>Pred_med</th>\n",
       "      <th>ampDiff_med</th>\n",
       "      <th>vel_med</th>\n",
       "      <th>move_med</th>\n",
       "    </tr>\n",
       "    <tr>\n",
       "      <th>Date_Time</th>\n",
       "      <th></th>\n",
       "      <th></th>\n",
       "      <th></th>\n",
       "      <th></th>\n",
       "      <th></th>\n",
       "      <th></th>\n",
       "      <th></th>\n",
       "      <th></th>\n",
       "      <th></th>\n",
       "      <th></th>\n",
       "      <th></th>\n",
       "      <th></th>\n",
       "      <th></th>\n",
       "      <th></th>\n",
       "      <th></th>\n",
       "      <th></th>\n",
       "    </tr>\n",
       "  </thead>\n",
       "  <tbody>\n",
       "    <tr>\n",
       "      <th>1999-01-01</th>\n",
       "      <td>-0.46</td>\n",
       "      <td>-3.90</td>\n",
       "      <td>-0.607792</td>\n",
       "      <td>3.47</td>\n",
       "      <td>3.44</td>\n",
       "      <td>3.58</td>\n",
       "      <td>0.569761</td>\n",
       "      <td>3.90</td>\n",
       "      <td>2.046890</td>\n",
       "      <td>4.287179</td>\n",
       "      <td>0.675697</td>\n",
       "      <td>0.223383</td>\n",
       "      <td>1.435</td>\n",
       "      <td>3.470</td>\n",
       "      <td>0.555200</td>\n",
       "      <td>3.580</td>\n",
       "    </tr>\n",
       "    <tr>\n",
       "      <th>1999-01-02</th>\n",
       "      <td>-0.47</td>\n",
       "      <td>-3.91</td>\n",
       "      <td>-0.610938</td>\n",
       "      <td>3.15</td>\n",
       "      <td>3.44</td>\n",
       "      <td>3.58</td>\n",
       "      <td>0.569761</td>\n",
       "      <td>3.91</td>\n",
       "      <td>2.050024</td>\n",
       "      <td>4.088088</td>\n",
       "      <td>0.654427</td>\n",
       "      <td>0.312943</td>\n",
       "      <td>1.435</td>\n",
       "      <td>0.165</td>\n",
       "      <td>0.012217</td>\n",
       "      <td>3.530</td>\n",
       "    </tr>\n",
       "    <tr>\n",
       "      <th>1999-01-03</th>\n",
       "      <td>-0.44</td>\n",
       "      <td>-3.85</td>\n",
       "      <td>-0.604712</td>\n",
       "      <td>3.14</td>\n",
       "      <td>3.41</td>\n",
       "      <td>3.54</td>\n",
       "      <td>0.563395</td>\n",
       "      <td>3.85</td>\n",
       "      <td>2.138933</td>\n",
       "      <td>4.077144</td>\n",
       "      <td>0.653703</td>\n",
       "      <td>0.355949</td>\n",
       "      <td>-0.130</td>\n",
       "      <td>-3.140</td>\n",
       "      <td>-0.529213</td>\n",
       "      <td>3.540</td>\n",
       "    </tr>\n",
       "    <tr>\n",
       "      <th>1999-01-04</th>\n",
       "      <td>-0.36</td>\n",
       "      <td>-3.69</td>\n",
       "      <td>-0.579581</td>\n",
       "      <td>3.09</td>\n",
       "      <td>3.33</td>\n",
       "      <td>3.44</td>\n",
       "      <td>0.547480</td>\n",
       "      <td>3.69</td>\n",
       "      <td>1.964943</td>\n",
       "      <td>3.945149</td>\n",
       "      <td>0.633691</td>\n",
       "      <td>0.246171</td>\n",
       "      <td>1.455</td>\n",
       "      <td>0.165</td>\n",
       "      <td>0.012479</td>\n",
       "      <td>3.430</td>\n",
       "    </tr>\n",
       "    <tr>\n",
       "      <th>1999-01-05</th>\n",
       "      <td>-0.25</td>\n",
       "      <td>-3.47</td>\n",
       "      <td>-0.549340</td>\n",
       "      <td>2.99</td>\n",
       "      <td>3.22</td>\n",
       "      <td>3.33</td>\n",
       "      <td>0.529973</td>\n",
       "      <td>3.47</td>\n",
       "      <td>1.869991</td>\n",
       "      <td>3.766717</td>\n",
       "      <td>0.606212</td>\n",
       "      <td>0.201887</td>\n",
       "      <td>1.475</td>\n",
       "      <td>0.125</td>\n",
       "      <td>0.007250</td>\n",
       "      <td>3.285</td>\n",
       "    </tr>\n",
       "  </tbody>\n",
       "</table>\n",
       "</div>"
      ],
      "text/plain": [
       "            Pred_min  ampDiff_min   vel_min  move_min  Pred_max  ampDiff_max  \\\n",
       "Date_Time                                                                      \n",
       "1999-01-01     -0.46        -3.90 -0.607792      3.47      3.44         3.58   \n",
       "1999-01-02     -0.47        -3.91 -0.610938      3.15      3.44         3.58   \n",
       "1999-01-03     -0.44        -3.85 -0.604712      3.14      3.41         3.54   \n",
       "1999-01-04     -0.36        -3.69 -0.579581      3.09      3.33         3.44   \n",
       "1999-01-05     -0.25        -3.47 -0.549340      2.99      3.22         3.33   \n",
       "\n",
       "             vel_max  move_max  Pred_std  ampDiff_std   vel_std  move_std  \\\n",
       "Date_Time                                                                   \n",
       "1999-01-01  0.569761      3.90  2.046890     4.287179  0.675697  0.223383   \n",
       "1999-01-02  0.569761      3.91  2.050024     4.088088  0.654427  0.312943   \n",
       "1999-01-03  0.563395      3.85  2.138933     4.077144  0.653703  0.355949   \n",
       "1999-01-04  0.547480      3.69  1.964943     3.945149  0.633691  0.246171   \n",
       "1999-01-05  0.529973      3.47  1.869991     3.766717  0.606212  0.201887   \n",
       "\n",
       "            Pred_med  ampDiff_med   vel_med  move_med  \n",
       "Date_Time                                              \n",
       "1999-01-01     1.435        3.470  0.555200     3.580  \n",
       "1999-01-02     1.435        0.165  0.012217     3.530  \n",
       "1999-01-03    -0.130       -3.140 -0.529213     3.540  \n",
       "1999-01-04     1.455        0.165  0.012479     3.430  \n",
       "1999-01-05     1.475        0.125  0.007250     3.285  "
      ]
     },
     "execution_count": 4,
     "metadata": {},
     "output_type": "execute_result"
    }
   ],
   "source": [
    "df.head()"
   ]
  },
  {
   "cell_type": "code",
   "execution_count": 5,
   "metadata": {},
   "outputs": [
    {
     "name": "stdout",
     "output_type": "stream",
     "text": [
      "<class 'pandas.core.frame.DataFrame'>\n",
      "DatetimeIndex: 5844 entries, 1999-01-01 to 2014-12-31\n",
      "Freq: D\n",
      "Data columns (total 16 columns):\n",
      "Pred_min       5844 non-null float64\n",
      "ampDiff_min    5844 non-null float64\n",
      "vel_min        5844 non-null float64\n",
      "move_min       5844 non-null float64\n",
      "Pred_max       5844 non-null float64\n",
      "ampDiff_max    5844 non-null float64\n",
      "vel_max        5844 non-null float64\n",
      "move_max       5844 non-null float64\n",
      "Pred_std       5844 non-null float64\n",
      "ampDiff_std    5844 non-null float64\n",
      "vel_std        5844 non-null float64\n",
      "move_std       5844 non-null float64\n",
      "Pred_med       5844 non-null float64\n",
      "ampDiff_med    5844 non-null float64\n",
      "vel_med        5844 non-null float64\n",
      "move_med       5844 non-null float64\n",
      "dtypes: float64(16)\n",
      "memory usage: 776.2 KB\n"
     ]
    }
   ],
   "source": [
    "df.info()"
   ]
  },
  {
   "cell_type": "code",
   "execution_count": 7,
   "metadata": {
    "collapsed": true
   },
   "outputs": [],
   "source": [
    "sc = StandardScaler()\n",
    "pca = PCA()"
   ]
  },
  {
   "cell_type": "code",
   "execution_count": 8,
   "metadata": {
    "collapsed": true
   },
   "outputs": [],
   "source": [
    "tides_sc = sc.fit_transform(df.values)"
   ]
  },
  {
   "cell_type": "code",
   "execution_count": 15,
   "metadata": {
    "collapsed": true
   },
   "outputs": [],
   "source": [
    "df_sc = pd.DataFrame(tides_sc, columns=df.columns)"
   ]
  },
  {
   "cell_type": "code",
   "execution_count": 16,
   "metadata": {},
   "outputs": [],
   "source": [
    "tides_sc_corr = df_sc.corr()"
   ]
  },
  {
   "cell_type": "code",
   "execution_count": 17,
   "metadata": {},
   "outputs": [
    {
     "data": {
      "text/plain": [
       "<matplotlib.axes._subplots.AxesSubplot at 0x112688438>"
      ]
     },
     "execution_count": 17,
     "metadata": {},
     "output_type": "execute_result"
    },
    {
     "data": {
      "image/png": "[encoded data removed]",
      "text/plain": [
       "<matplotlib.figure.Figure at 0x1126872e8>"
      ]
     },
     "metadata": {},
     "output_type": "display_data"
    }
   ],
   "source": [
    "f, ax = pl.subplots(figsize=(15, 15))\n",
    "heatmap(tides_sc_corr, ax=ax)"
   ]
  },
  {
   "cell_type": "code",
   "execution_count": 13,
   "metadata": {
    "collapsed": true
   },
   "outputs": [],
   "source": [
    "pcadata = pca.fit_transform(tides_sc)\n",
    "dfpca = pd.DataFrame(pcadata[:,:5], columns=['PC%d' % i for i in range(1, 6)])"
   ]
  },
  {
   "cell_type": "code",
   "execution_count": null,
   "metadata": {
    "collapsed": true
   },
   "outputs": [],
   "source": []
  }
 ],
 "metadata": {
  "kernelspec": {
   "display_name": "Python 3",
   "language": "python",
   "name": "python3"
  },
  "language_info": {
   "codemirror_mode": {
    "name": "ipython",
    "version": 3
   },
   "file_extension": ".py",
   "mimetype": "text/x-python",
   "name": "python",
   "nbconvert_exporter": "python",
   "pygments_lexer": "ipython3",
   "version": "3.6.5"
  }
 },
 "nbformat": 4,
 "nbformat_minor": 2
}

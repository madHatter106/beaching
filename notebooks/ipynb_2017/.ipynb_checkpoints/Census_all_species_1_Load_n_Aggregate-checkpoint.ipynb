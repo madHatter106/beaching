{
 "cells": [
  {
   "cell_type": "code",
   "execution_count": 31,
   "metadata": {
    "collapsed": true
   },
   "outputs": [],
   "source": [
    "import pandas as pd\n",
    "import numpy as np\n",
    "import pathlib\n",
    "from pandas.errors import ParserError\n",
    "from tqdm import tqdm_notebook\n",
    "from collections import namedtuple"
   ]
  },
  {
   "cell_type": "code",
   "execution_count": 2,
   "metadata": {
    "collapsed": true
   },
   "outputs": [],
   "source": [
    "home = pathlib.Path.home()"
   ]
  },
  {
   "cell_type": "code",
   "execution_count": 3,
   "metadata": {
    "collapsed": true
   },
   "outputs": [],
   "source": [
    "dataDir = home / \"DATA/Beaching/CensusData\""
   ]
  },
  {
   "cell_type": "code",
   "execution_count": 32,
   "metadata": {
    "collapsed": true
   },
   "outputs": [],
   "source": [
    "def ParseFile(filepath, beginYear='1999', endYear='2014'):\n",
    "    try:\n",
    "        df = pd.read_csv(filepath, header=0, parse_dates=['obs_date'],\n",
    "                        usecols=np.arange(32), infer_datetime_format=True)\n",
    "    except ParserError as e:\n",
    "        print(f'problem parsing {str(filepath)}')\n",
    "        print(e)\n",
    "        return None\n",
    "    \n",
    "    cols_to_drop=['geom', 'oid', 'id', 'dataset_id', 'series_id', 'tsn', 'sp_code',\n",
    "                  'provider', 'owner', 'share_policy', 'tprecision', 'lprecision',\n",
    "                  'depth', 'date_time', 'last_mod', 'oceano', 'resources', 'ds_type',\n",
    "                  'platform', 'classitem', 'symbol', 'symbolsize', 'datetime_end_utc',\n",
    "                  'common', 'pam_granularity', 'pam_bin_size']\n",
    "                  #, 'pam_call_type',\n",
    "                  #  'publish', 'scientific']\n",
    "    critter_abrev = str(filepath).split('/')[-1].split('_')[0][:5]\n",
    "    df.drop(cols_to_drop, axis=1, inplace=True)\n",
    "    df.drop_duplicates(inplace=True)\n",
    "    df.set_index('obs_date', inplace=True)\n",
    "    df.sort_index(inplace=True)\n",
    "    df = df.loc[beginYear: endYear]\n",
    "    pickle_name = f'../PklJar/{critter_abrev}_global_census.pkl'\n",
    "    df.to_pickle(pickle_name)\n",
    "    return pickle_name\n",
    "\n",
    "def LoadParseData():\n",
    "    files = [f for f in dataDir.glob('*.csv')]\n",
    "    pkl_name_dict = {}\n",
    "    for file in tqdm_notebook(files):\n",
    "        fname = str(file).split('/')[-1]\n",
    "        print(fname)\n",
    "        pkl_name = ParseFile(file)\n",
    "        pkl_name_dict[fname.split('.')[0]] = pkl_name\n",
    "    return pkl_name_dict\n",
    "\n",
    "def GetRegionalData(path_dict, lat_lon_lims):\n",
    "    \"\"\"\n",
    "    path_dict: dictionary containing a critter-to-dataframe_pickle_path mapping\n",
    "    lat_lon_lims: namedtuple with lat/lon min/max\n",
    "    \"\"\"\n",
    "    \n",
    "    for critter,pkl_file_name in path_dict.items():\n",
    "        with open(pkl_file_name, 'rb') as f:\n",
    "            df = pd.read_pickle(pkl_file_name)\n",
    "            # create new column with distance from cape cod\n",
    "            # Approx. CC_lat/_lon = 41.795275 / -70.368343\n",
    "            df['dist_2_cape_cod'] = distance((41.795275, -70.368343), df)"
   ]
  },
  {
   "cell_type": "code",
   "execution_count": 33,
   "metadata": {},
   "outputs": [
    {
     "data": {
      "application/vnd.jupyter.widget-view+json": {
       "model_id": "d00119634bae4f13982b9518044574cb"
      }
     },
     "metadata": {},
     "output_type": "display_data"
    },
    {
     "name": "stdout",
     "output_type": "stream",
     "text": [
      "Globiceph_census.csv\n",
      "Grampus_census.csv\n",
      "Stenella_census.csv\n",
      "Lageno_census.csv\n",
      "Tursiops_census.csv\n",
      "Delphinus_census.csv\n",
      "\n"
     ]
    }
   ],
   "source": [
    "pkl_dict  = LoadParseData()"
   ]
  },
  {
   "cell_type": "code",
   "execution_count": 27,
   "metadata": {},
   "outputs": [
    {
     "data": {
      "text/plain": [
       "{'Delphinus_census': '../PklJar/Delph_global_census.pkl',\n",
       " 'Globiceph_census': '../PklJar/Globi_global_census.pkl',\n",
       " 'Grampus_census': '../PklJar/Gramp_global_census.pkl',\n",
       " 'Lageno_census': '../PklJar/Lagen_global_census.pkl',\n",
       " 'Stenella_census': '../PklJar/Stene_global_census.pkl',\n",
       " 'Tursiops_census': '../PklJar/Tursi_global_census.pkl'}"
      ]
     },
     "execution_count": 27,
     "metadata": {},
     "output_type": "execute_result"
    }
   ],
   "source": [
    "pkl_dict"
   ]
  },
  {
   "cell_type": "code",
   "execution_count": 34,
   "metadata": {
    "collapsed": true
   },
   "outputs": [],
   "source": [
    "df = pd.read_pickle(pkl_dict['Delphinus_census'])"
   ]
  },
  {
   "cell_type": "code",
   "execution_count": 36,
   "metadata": {
    "collapsed": true
   },
   "outputs": [],
   "source": [
    "lat_lon_range = namedtuple('lat_lon_range', ['lat_range', 'lon_range'])"
   ]
  },
  {
   "cell_type": "code",
   "execution_count": 45,
   "metadata": {
    "collapsed": true
   },
   "outputs": [],
   "source": [
    "lat_lon_range.lat_range=[40, 43]\n",
    "lat_lon_range.lon_range=[-71, -66]"
   ]
  },
  {
   "cell_type": "code",
   "execution_count": 46,
   "metadata": {},
   "outputs": [
    {
     "data": {
      "text/plain": [
       "[40, 43]"
      ]
     },
     "execution_count": 46,
     "metadata": {},
     "output_type": "execute_result"
    }
   ],
   "source": [
    "lat_lon_range.lat_range"
   ]
  },
  {
   "cell_type": "code",
   "execution_count": 55,
   "metadata": {
    "collapsed": true
   },
   "outputs": [],
   "source": [
    "df_cape_cod = df.loc[(df.Delph_latitude >= lat_lon_range.lat_range[0])\n",
    "                     & (df.Delph_latitude<=lat_lon_range.lat_range[1])\n",
    "                    & (df.Delph_longitude>=lat_lon_range.lon_range[1])]"
   ]
  },
  {
   "cell_type": "code",
   "execution_count": 56,
   "metadata": {},
   "outputs": [
    {
     "data": {
      "text/plain": [
       "(1300, 5)"
      ]
     },
     "execution_count": 56,
     "metadata": {},
     "output_type": "execute_result"
    }
   ],
   "source": [
    "df_cape_cod.shape"
   ]
  },
  {
   "cell_type": "code",
   "execution_count": 42,
   "metadata": {},
   "outputs": [
    {
     "data": {
      "text/plain": [
       "(14630, 5)"
      ]
     },
     "execution_count": 42,
     "metadata": {},
     "output_type": "execute_result"
    }
   ],
   "source": [
    "df.shape"
   ]
  },
  {
   "cell_type": "code",
   "execution_count": 44,
   "metadata": {},
   "outputs": [
    {
     "data": {
      "text/plain": [
       "-130.72"
      ]
     },
     "execution_count": 44,
     "metadata": {},
     "output_type": "execute_result"
    }
   ],
   "source": [
    "df.Delph_longitude.min()"
   ]
  },
  {
   "cell_type": "code",
   "execution_count": null,
   "metadata": {
    "collapsed": true
   },
   "outputs": [],
   "source": [
    "df.loc"
   ]
  },
  {
   "cell_type": "code",
   "execution_count": 35,
   "metadata": {},
   "outputs": [
    {
     "data": {
      "text/html": [
       "<div>\n",
       "<style>\n",
       "    .dataframe thead tr:only-child th {\n",
       "        text-align: right;\n",
       "    }\n",
       "\n",
       "    .dataframe thead th {\n",
       "        text-align: left;\n",
       "    }\n",
       "\n",
       "    .dataframe tbody tr th {\n",
       "        vertical-align: top;\n",
       "    }\n",
       "</style>\n",
       "<table border=\"1\" class=\"dataframe\">\n",
       "  <thead>\n",
       "    <tr style=\"text-align: right;\">\n",
       "      <th></th>\n",
       "      <th>Delph_row_id</th>\n",
       "      <th>Delph_scientific</th>\n",
       "      <th>Delph_latitude</th>\n",
       "      <th>Delph_longitude</th>\n",
       "      <th>Delph_count</th>\n",
       "    </tr>\n",
       "    <tr>\n",
       "      <th>obs_date</th>\n",
       "      <th></th>\n",
       "      <th></th>\n",
       "      <th></th>\n",
       "      <th></th>\n",
       "      <th></th>\n",
       "    </tr>\n",
       "  </thead>\n",
       "  <tbody>\n",
       "    <tr>\n",
       "      <th>1999-01-06</th>\n",
       "      <td>1406_8261</td>\n",
       "      <td>Delphinus delphis</td>\n",
       "      <td>44.725610</td>\n",
       "      <td>-1.244220</td>\n",
       "      <td>NaN</td>\n",
       "    </tr>\n",
       "    <tr>\n",
       "      <th>1999-01-07</th>\n",
       "      <td>731_7247</td>\n",
       "      <td>Delphinus delphis</td>\n",
       "      <td>50.038124</td>\n",
       "      <td>-5.261319</td>\n",
       "      <td>1.0</td>\n",
       "    </tr>\n",
       "    <tr>\n",
       "      <th>1999-01-07</th>\n",
       "      <td>731_7239</td>\n",
       "      <td>Delphinus delphis</td>\n",
       "      <td>50.367010</td>\n",
       "      <td>-4.639627</td>\n",
       "      <td>1.0</td>\n",
       "    </tr>\n",
       "    <tr>\n",
       "      <th>1999-01-08</th>\n",
       "      <td>427_859885</td>\n",
       "      <td>Delphinus delphis</td>\n",
       "      <td>62.097000</td>\n",
       "      <td>-1.724000</td>\n",
       "      <td>15.0</td>\n",
       "    </tr>\n",
       "    <tr>\n",
       "      <th>1999-01-08</th>\n",
       "      <td>731_7241</td>\n",
       "      <td>Delphinus delphis</td>\n",
       "      <td>51.101899</td>\n",
       "      <td>-4.208400</td>\n",
       "      <td>1.0</td>\n",
       "    </tr>\n",
       "  </tbody>\n",
       "</table>\n",
       "</div>"
      ],
      "text/plain": [
       "           Delph_row_id   Delph_scientific  Delph_latitude  Delph_longitude  \\\n",
       "obs_date                                                                      \n",
       "1999-01-06    1406_8261  Delphinus delphis       44.725610        -1.244220   \n",
       "1999-01-07     731_7247  Delphinus delphis       50.038124        -5.261319   \n",
       "1999-01-07     731_7239  Delphinus delphis       50.367010        -4.639627   \n",
       "1999-01-08   427_859885  Delphinus delphis       62.097000        -1.724000   \n",
       "1999-01-08     731_7241  Delphinus delphis       51.101899        -4.208400   \n",
       "\n",
       "            Delph_count  \n",
       "obs_date                 \n",
       "1999-01-06          NaN  \n",
       "1999-01-07          1.0  \n",
       "1999-01-07          1.0  \n",
       "1999-01-08         15.0  \n",
       "1999-01-08          1.0  "
      ]
     },
     "execution_count": 35,
     "metadata": {},
     "output_type": "execute_result"
    }
   ],
   "source": [
    "df.loc[(df.Delph_latitude.isin(lat_lon_range.lat_range))"
   ]
  },
  {
   "cell_type": "code",
   "execution_count": null,
   "metadata": {
    "collapsed": true
   },
   "outputs": [],
   "source": []
  }
 ],
 "metadata": {
  "kernelspec": {
   "display_name": "Python 3",
   "language": "python",
   "name": "python3"
  },
  "language_info": {
   "codemirror_mode": {
    "name": "ipython",
    "version": 3
   },
   "file_extension": ".py",
   "mimetype": "text/x-python",
   "name": "python",
   "nbconvert_exporter": "python",
   "pygments_lexer": "ipython3",
   "version": "3.6.5"
  }
 },
 "nbformat": 4,
 "nbformat_minor": 2
}

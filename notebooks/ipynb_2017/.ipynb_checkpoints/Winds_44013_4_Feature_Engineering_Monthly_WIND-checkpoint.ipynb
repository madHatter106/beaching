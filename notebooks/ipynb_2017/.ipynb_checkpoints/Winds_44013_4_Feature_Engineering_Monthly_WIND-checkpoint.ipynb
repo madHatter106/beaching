{
 "cells": [
  {
   "cell_type": "markdown",
   "metadata": {},
   "source": [
    "Here I try a variety of bayesian models on a few of the features to get a sense of what might be more important"
   ]
  },
  {
   "cell_type": "code",
   "execution_count": 2,
   "metadata": {
    "collapsed": true
   },
   "outputs": [],
   "source": [
    "import pandas as pd\n",
    "import numpy as np\n",
    "import pymc3 as pm\n",
    "import pickle\n",
    "import matplotlib.pyplot as pl\n",
    "from sklearn.preprocessing import StandardScaler\n",
    "from matplotlib import rcParams\n",
    "import theano.tensor as tt\n",
    "import seaborn as sb\n",
    "import pathlib"
   ]
  },
  {
   "cell_type": "code",
   "execution_count": 3,
   "metadata": {
    "collapsed": true
   },
   "outputs": [],
   "source": [
    "% matplotlib inline\n",
    "rcParams['xtick.labelsize'] = 14\n",
    "rcParams['ytick.labelsize'] = 14\n",
    "rcParams['axes.formatter.limits'] = (-2, 3)\n",
    "rcParams['font.size'] = 14\n",
    "rcParams['axes.titlesize'] = 18\n",
    "rcParams['figure.titlesize'] = 20"
   ]
  },
  {
   "cell_type": "code",
   "execution_count": 4,
   "metadata": {},
   "outputs": [
    {
     "data": {
      "text/html": [
       "<style>.container {width: 90% !important}</style>"
      ],
      "text/plain": [
       "<IPython.core.display.HTML object>"
      ]
     },
     "metadata": {},
     "output_type": "display_data"
    }
   ],
   "source": [
    "from IPython.core.display import HTML, display\n",
    "display(HTML(\"<style>.container {width: 90% !important}</style>\"))"
   ]
  },
  {
   "cell_type": "code",
   "execution_count": 5,
   "metadata": {
    "collapsed": true
   },
   "outputs": [],
   "source": [
    "# Load the dataset:\n",
    "home = pathlib.Path.home()\n",
    "dataDir = home / 'DATA/Beaching_Project/PklJar'\n",
    "with open(dataDir / 'CapeCodDataDict.pkl', 'rb') as f:\n",
    "    dataDict = pickle.load(f)"
   ]
  },
  {
   "cell_type": "markdown",
   "metadata": {},
   "source": [
    "I'll start with the wind data as feature and the total number of strandings as target"
   ]
  },
  {
   "cell_type": "code",
   "execution_count": 6,
   "metadata": {},
   "outputs": [
    {
     "data": {
      "text/plain": [
       "dict_keys(['CENSUS', 'MAG', 'SUN', 'TIDE', 'WATER', 'WIND'])"
      ]
     },
     "execution_count": 6,
     "metadata": {},
     "output_type": "execute_result"
    }
   ],
   "source": [
    "dataDict['Features'].keys()"
   ]
  },
  {
   "cell_type": "code",
   "execution_count": 7,
   "metadata": {
    "collapsed": true
   },
   "outputs": [],
   "source": [
    "strandings = dataDict['Targets']['TOTAL']"
   ]
  },
  {
   "cell_type": "code",
   "execution_count": 8,
   "metadata": {},
   "outputs": [
    {
     "data": {
      "text/html": [
       "<div>\n",
       "<style scoped>\n",
       "    .dataframe tbody tr th:only-of-type {\n",
       "        vertical-align: middle;\n",
       "    }\n",
       "\n",
       "    .dataframe tbody tr th {\n",
       "        vertical-align: top;\n",
       "    }\n",
       "\n",
       "    .dataframe thead th {\n",
       "        text-align: right;\n",
       "    }\n",
       "</style>\n",
       "<table border=\"1\" class=\"dataframe\">\n",
       "  <thead>\n",
       "    <tr style=\"text-align: right;\">\n",
       "      <th></th>\n",
       "      <th>num_stranded</th>\n",
       "      <th>event</th>\n",
       "    </tr>\n",
       "  </thead>\n",
       "  <tbody>\n",
       "    <tr>\n",
       "      <th>1999-03-07</th>\n",
       "      <td>6.0</td>\n",
       "      <td>1</td>\n",
       "    </tr>\n",
       "    <tr>\n",
       "      <th>1999-03-08</th>\n",
       "      <td>0.0</td>\n",
       "      <td>0</td>\n",
       "    </tr>\n",
       "    <tr>\n",
       "      <th>1999-03-09</th>\n",
       "      <td>0.0</td>\n",
       "      <td>0</td>\n",
       "    </tr>\n",
       "    <tr>\n",
       "      <th>1999-03-10</th>\n",
       "      <td>0.0</td>\n",
       "      <td>0</td>\n",
       "    </tr>\n",
       "    <tr>\n",
       "      <th>1999-03-11</th>\n",
       "      <td>0.0</td>\n",
       "      <td>0</td>\n",
       "    </tr>\n",
       "  </tbody>\n",
       "</table>\n",
       "</div>"
      ],
      "text/plain": [
       "            num_stranded  event\n",
       "1999-03-07           6.0      1\n",
       "1999-03-08           0.0      0\n",
       "1999-03-09           0.0      0\n",
       "1999-03-10           0.0      0\n",
       "1999-03-11           0.0      0"
      ]
     },
     "execution_count": 8,
     "metadata": {},
     "output_type": "execute_result"
    }
   ],
   "source": [
    "strandings.head()"
   ]
  },
  {
   "cell_type": "code",
   "execution_count": 9,
   "metadata": {
    "collapsed": true
   },
   "outputs": [],
   "source": [
    "strandings = strandings.loc['1999-03-07':]"
   ]
  },
  {
   "cell_type": "code",
   "execution_count": 39,
   "metadata": {
    "collapsed": true
   },
   "outputs": [],
   "source": [
    "df = pd.DataFrame(dataDict['Features']['WIND'])"
   ]
  },
  {
   "cell_type": "code",
   "execution_count": 40,
   "metadata": {
    "collapsed": true
   },
   "outputs": [],
   "source": [
    "df['Month'] = df.index.month\n",
    "df['Year' ] = df.index.year"
   ]
  },
  {
   "cell_type": "code",
   "execution_count": 41,
   "metadata": {},
   "outputs": [
    {
     "name": "stdout",
     "output_type": "stream",
     "text": [
      "<class 'pandas.core.frame.DataFrame'>\n",
      "DatetimeIndex: 5844 entries, 1999-01-01 to 2014-12-31\n",
      "Freq: D\n",
      "Data columns (total 14 columns):\n",
      "EasterlyWS         5397 non-null float64\n",
      "SoutherlyWS        5397 non-null float64\n",
      "EasterlyWS_1d      5396 non-null float64\n",
      "SoutherlyWS_1d     5396 non-null float64\n",
      "EasterlyWS_2d      5395 non-null float64\n",
      "SoutherlyWS_2d     5395 non-null float64\n",
      "EasterlyWS_3d      5394 non-null float64\n",
      "SoutherlyWS_3d     5394 non-null float64\n",
      "EasterlyWS_7d      5390 non-null float64\n",
      "SoutherlyWS_7d     5390 non-null float64\n",
      "EasterlyWS_30d     5367 non-null float64\n",
      "SoutherlyWS_30d    5367 non-null float64\n",
      "Month              5844 non-null int64\n",
      "Year               5844 non-null int64\n",
      "dtypes: float64(12), int64(2)\n",
      "memory usage: 684.8 KB\n"
     ]
    }
   ],
   "source": [
    "df.info()"
   ]
  },
  {
   "cell_type": "code",
   "execution_count": 13,
   "metadata": {
    "collapsed": true
   },
   "outputs": [],
   "source": [
    "dfWS = pd.DataFrame(np.sqrt(df.EasterlyWS**2 + df.SoutherlyWS**2), columns=['WS'])\n",
    "dfWS['Month'] = df.Month\n",
    "dfWS['Year'] = df.Year"
   ]
  },
  {
   "cell_type": "code",
   "execution_count": 14,
   "metadata": {
    "collapsed": true
   },
   "outputs": [],
   "source": [
    "dfWS_Monthly = dfWS.resample('M').mean()"
   ]
  },
  {
   "cell_type": "code",
   "execution_count": 15,
   "metadata": {},
   "outputs": [
    {
     "name": "stdout",
     "output_type": "stream",
     "text": [
      "                  WS  Month  Year\n",
      "1999-01-31  6.337813      1  1999\n",
      "1999-02-28  5.587788      2  1999\n",
      "1999-03-31  6.479795      3  1999\n",
      "1999-04-30  3.414578      4  1999\n",
      "1999-05-31  3.186250      5  1999\n",
      "                  WS  Month  Year\n",
      "2014-08-31  3.087178      8  2014\n",
      "2014-09-30  3.646902      9  2014\n",
      "2014-10-31  5.958362     10  2014\n",
      "2014-11-30  6.655850     11  2014\n",
      "2014-12-31  6.443955     12  2014\n"
     ]
    }
   ],
   "source": [
    "print(dfWS_Monthly.head())\n",
    "print(dfWS_Monthly.tail())"
   ]
  },
  {
   "cell_type": "code",
   "execution_count": 16,
   "metadata": {
    "collapsed": true
   },
   "outputs": [],
   "source": [
    "dfWS_Monthly['Month'] = dfWS_Monthly.index.month\n",
    "dfWS_Monthly['Year'] = dfWS_Monthly.index.year"
   ]
  },
  {
   "cell_type": "code",
   "execution_count": 17,
   "metadata": {},
   "outputs": [
    {
     "data": {
      "text/html": [
       "<div>\n",
       "<style scoped>\n",
       "    .dataframe tbody tr th:only-of-type {\n",
       "        vertical-align: middle;\n",
       "    }\n",
       "\n",
       "    .dataframe tbody tr th {\n",
       "        vertical-align: top;\n",
       "    }\n",
       "\n",
       "    .dataframe thead th {\n",
       "        text-align: right;\n",
       "    }\n",
       "</style>\n",
       "<table border=\"1\" class=\"dataframe\">\n",
       "  <thead>\n",
       "    <tr style=\"text-align: right;\">\n",
       "      <th></th>\n",
       "      <th>WS</th>\n",
       "      <th>Month</th>\n",
       "      <th>Year</th>\n",
       "    </tr>\n",
       "  </thead>\n",
       "  <tbody>\n",
       "    <tr>\n",
       "      <th>1999-01-31</th>\n",
       "      <td>6.337813</td>\n",
       "      <td>1</td>\n",
       "      <td>1999</td>\n",
       "    </tr>\n",
       "    <tr>\n",
       "      <th>1999-02-28</th>\n",
       "      <td>5.587788</td>\n",
       "      <td>2</td>\n",
       "      <td>1999</td>\n",
       "    </tr>\n",
       "    <tr>\n",
       "      <th>1999-03-31</th>\n",
       "      <td>6.479795</td>\n",
       "      <td>3</td>\n",
       "      <td>1999</td>\n",
       "    </tr>\n",
       "    <tr>\n",
       "      <th>1999-04-30</th>\n",
       "      <td>3.414578</td>\n",
       "      <td>4</td>\n",
       "      <td>1999</td>\n",
       "    </tr>\n",
       "    <tr>\n",
       "      <th>1999-05-31</th>\n",
       "      <td>3.186250</td>\n",
       "      <td>5</td>\n",
       "      <td>1999</td>\n",
       "    </tr>\n",
       "  </tbody>\n",
       "</table>\n",
       "</div>"
      ],
      "text/plain": [
       "                  WS  Month  Year\n",
       "1999-01-31  6.337813      1  1999\n",
       "1999-02-28  5.587788      2  1999\n",
       "1999-03-31  6.479795      3  1999\n",
       "1999-04-30  3.414578      4  1999\n",
       "1999-05-31  3.186250      5  1999"
      ]
     },
     "execution_count": 17,
     "metadata": {},
     "output_type": "execute_result"
    }
   ],
   "source": [
    "dfWS_Monthly.head()"
   ]
  },
  {
   "cell_type": "code",
   "execution_count": 18,
   "metadata": {
    "collapsed": true
   },
   "outputs": [],
   "source": [
    "bad_months = dfWS_Monthly[(dfWS_Monthly.WS.isnull())].index.month.unique().tolist()\n",
    "dfWS_M_clean = dfWS_Monthly.copy()\n",
    "\n",
    "for month in bad_months:\n",
    "    dfWS_M_clean.loc[(dfWS_M_clean.WS.isnull()) &\n",
    "                     (dfWS_M_clean.index.month==month), 'WS'] = dfWS_M_clean.loc [dfWS_M_clean.index.month==month,\n",
    "                                                                        'WS'].mean()"
   ]
  },
  {
   "cell_type": "code",
   "execution_count": 19,
   "metadata": {
    "collapsed": true
   },
   "outputs": [],
   "source": [
    "dfWS_pivot = dfWS_M_clean.pivot(\"Month\", \"Year\", \"WS\")"
   ]
  },
  {
   "cell_type": "code",
   "execution_count": 21,
   "metadata": {},
   "outputs": [
    {
     "data": {
      "text/plain": [
       "<matplotlib.axes._subplots.AxesSubplot at 0x7f3fb5ba3630>"
      ]
     },
     "execution_count": 21,
     "metadata": {},
     "output_type": "execute_result"
    },
    {
     "data": {
      "image/png": "[encoded data removed]",
      "text/plain": [
       "<matplotlib.figure.Figure at 0x7f3fb5bc3748>"
      ]
     },
     "metadata": {},
     "output_type": "display_data"
    }
   ],
   "source": [
    "_, ax = pl.subplots(figsize=(15, 12))\n",
    "sb.heatmap(dfWS_pivot, annot=True, ax=ax)"
   ]
  },
  {
   "cell_type": "code",
   "execution_count": 22,
   "metadata": {
    "collapsed": true
   },
   "outputs": [],
   "source": [
    "strandings = dataDict['Targets']['TOTAL']"
   ]
  },
  {
   "cell_type": "code",
   "execution_count": 23,
   "metadata": {},
   "outputs": [
    {
     "data": {
      "text/html": [
       "<div>\n",
       "<style scoped>\n",
       "    .dataframe tbody tr th:only-of-type {\n",
       "        vertical-align: middle;\n",
       "    }\n",
       "\n",
       "    .dataframe tbody tr th {\n",
       "        vertical-align: top;\n",
       "    }\n",
       "\n",
       "    .dataframe thead th {\n",
       "        text-align: right;\n",
       "    }\n",
       "</style>\n",
       "<table border=\"1\" class=\"dataframe\">\n",
       "  <thead>\n",
       "    <tr style=\"text-align: right;\">\n",
       "      <th></th>\n",
       "      <th>num_stranded</th>\n",
       "      <th>event</th>\n",
       "    </tr>\n",
       "  </thead>\n",
       "  <tbody>\n",
       "    <tr>\n",
       "      <th>1999-03-07</th>\n",
       "      <td>6.0</td>\n",
       "      <td>1</td>\n",
       "    </tr>\n",
       "    <tr>\n",
       "      <th>1999-03-08</th>\n",
       "      <td>0.0</td>\n",
       "      <td>0</td>\n",
       "    </tr>\n",
       "    <tr>\n",
       "      <th>1999-03-09</th>\n",
       "      <td>0.0</td>\n",
       "      <td>0</td>\n",
       "    </tr>\n",
       "    <tr>\n",
       "      <th>1999-03-10</th>\n",
       "      <td>0.0</td>\n",
       "      <td>0</td>\n",
       "    </tr>\n",
       "    <tr>\n",
       "      <th>1999-03-11</th>\n",
       "      <td>0.0</td>\n",
       "      <td>0</td>\n",
       "    </tr>\n",
       "  </tbody>\n",
       "</table>\n",
       "</div>"
      ],
      "text/plain": [
       "            num_stranded  event\n",
       "1999-03-07           6.0      1\n",
       "1999-03-08           0.0      0\n",
       "1999-03-09           0.0      0\n",
       "1999-03-10           0.0      0\n",
       "1999-03-11           0.0      0"
      ]
     },
     "execution_count": 23,
     "metadata": {},
     "output_type": "execute_result"
    }
   ],
   "source": [
    "strandings.head()"
   ]
  },
  {
   "cell_type": "code",
   "execution_count": 24,
   "metadata": {
    "collapsed": true
   },
   "outputs": [],
   "source": [
    "strandings = pd.DataFrame(strandings, columns=['num_stranded'])"
   ]
  },
  {
   "cell_type": "code",
   "execution_count": 27,
   "metadata": {},
   "outputs": [],
   "source": [
    "strand_M = strandings.resample('M').sum()"
   ]
  },
  {
   "cell_type": "code",
   "execution_count": 28,
   "metadata": {
    "collapsed": true
   },
   "outputs": [],
   "source": [
    "strand_M.rename(columns={0: 'num_stranded'}, inplace=True)"
   ]
  },
  {
   "cell_type": "code",
   "execution_count": 29,
   "metadata": {},
   "outputs": [
    {
     "data": {
      "text/html": [
       "<div>\n",
       "<style scoped>\n",
       "    .dataframe tbody tr th:only-of-type {\n",
       "        vertical-align: middle;\n",
       "    }\n",
       "\n",
       "    .dataframe tbody tr th {\n",
       "        vertical-align: top;\n",
       "    }\n",
       "\n",
       "    .dataframe thead th {\n",
       "        text-align: right;\n",
       "    }\n",
       "</style>\n",
       "<table border=\"1\" class=\"dataframe\">\n",
       "  <thead>\n",
       "    <tr style=\"text-align: right;\">\n",
       "      <th></th>\n",
       "      <th>num_stranded</th>\n",
       "    </tr>\n",
       "  </thead>\n",
       "  <tbody>\n",
       "    <tr>\n",
       "      <th>1999-03-31</th>\n",
       "      <td>56.0</td>\n",
       "    </tr>\n",
       "    <tr>\n",
       "      <th>1999-04-30</th>\n",
       "      <td>0.0</td>\n",
       "    </tr>\n",
       "    <tr>\n",
       "      <th>1999-05-31</th>\n",
       "      <td>0.0</td>\n",
       "    </tr>\n",
       "    <tr>\n",
       "      <th>1999-06-30</th>\n",
       "      <td>2.0</td>\n",
       "    </tr>\n",
       "    <tr>\n",
       "      <th>1999-07-31</th>\n",
       "      <td>0.0</td>\n",
       "    </tr>\n",
       "  </tbody>\n",
       "</table>\n",
       "</div>"
      ],
      "text/plain": [
       "            num_stranded\n",
       "1999-03-31          56.0\n",
       "1999-04-30           0.0\n",
       "1999-05-31           0.0\n",
       "1999-06-30           2.0\n",
       "1999-07-31           0.0"
      ]
     },
     "execution_count": 29,
     "metadata": {},
     "output_type": "execute_result"
    }
   ],
   "source": [
    "strand_M.head()"
   ]
  },
  {
   "cell_type": "markdown",
   "metadata": {},
   "source": [
    "The stranding dataset starts on March 7, 1997. So I'll trim the dataset used here to start then:"
   ]
  },
  {
   "cell_type": "code",
   "execution_count": 30,
   "metadata": {
    "collapsed": true
   },
   "outputs": [],
   "source": [
    "strand_M = strand_M.loc['1999-03-31':]\n",
    "dfWS_M = dfWS_M_clean.loc['1999-03-31':]"
   ]
  },
  {
   "cell_type": "code",
   "execution_count": 31,
   "metadata": {
    "collapsed": true
   },
   "outputs": [],
   "source": [
    "df = pd.concat([dfWS_M, strand_M], axis=1, copy=False)"
   ]
  },
  {
   "cell_type": "code",
   "execution_count": 32,
   "metadata": {},
   "outputs": [
    {
     "data": {
      "text/html": [
       "<div>\n",
       "<style scoped>\n",
       "    .dataframe tbody tr th:only-of-type {\n",
       "        vertical-align: middle;\n",
       "    }\n",
       "\n",
       "    .dataframe tbody tr th {\n",
       "        vertical-align: top;\n",
       "    }\n",
       "\n",
       "    .dataframe thead th {\n",
       "        text-align: right;\n",
       "    }\n",
       "</style>\n",
       "<table border=\"1\" class=\"dataframe\">\n",
       "  <thead>\n",
       "    <tr style=\"text-align: right;\">\n",
       "      <th></th>\n",
       "      <th>WS</th>\n",
       "      <th>Month</th>\n",
       "      <th>Year</th>\n",
       "      <th>num_stranded</th>\n",
       "    </tr>\n",
       "  </thead>\n",
       "  <tbody>\n",
       "    <tr>\n",
       "      <th>1999-03-31</th>\n",
       "      <td>6.479795</td>\n",
       "      <td>3</td>\n",
       "      <td>1999</td>\n",
       "      <td>56.0</td>\n",
       "    </tr>\n",
       "    <tr>\n",
       "      <th>1999-04-30</th>\n",
       "      <td>3.414578</td>\n",
       "      <td>4</td>\n",
       "      <td>1999</td>\n",
       "      <td>0.0</td>\n",
       "    </tr>\n",
       "    <tr>\n",
       "      <th>1999-05-31</th>\n",
       "      <td>3.186250</td>\n",
       "      <td>5</td>\n",
       "      <td>1999</td>\n",
       "      <td>0.0</td>\n",
       "    </tr>\n",
       "    <tr>\n",
       "      <th>1999-06-30</th>\n",
       "      <td>3.308266</td>\n",
       "      <td>6</td>\n",
       "      <td>1999</td>\n",
       "      <td>2.0</td>\n",
       "    </tr>\n",
       "    <tr>\n",
       "      <th>1999-07-31</th>\n",
       "      <td>2.829669</td>\n",
       "      <td>7</td>\n",
       "      <td>1999</td>\n",
       "      <td>0.0</td>\n",
       "    </tr>\n",
       "  </tbody>\n",
       "</table>\n",
       "</div>"
      ],
      "text/plain": [
       "                  WS  Month  Year  num_stranded\n",
       "1999-03-31  6.479795      3  1999          56.0\n",
       "1999-04-30  3.414578      4  1999           0.0\n",
       "1999-05-31  3.186250      5  1999           0.0\n",
       "1999-06-30  3.308266      6  1999           2.0\n",
       "1999-07-31  2.829669      7  1999           0.0"
      ]
     },
     "execution_count": 32,
     "metadata": {},
     "output_type": "execute_result"
    }
   ],
   "source": [
    "df.head()"
   ]
  },
  {
   "cell_type": "code",
   "execution_count": 33,
   "metadata": {},
   "outputs": [
    {
     "data": {
      "text/plain": [
       "<matplotlib.axes._subplots.AxesSubplot at 0x7f3fb594e080>"
      ]
     },
     "execution_count": 33,
     "metadata": {},
     "output_type": "execute_result"
    },
    {
     "data": {
      "image/png": "[encoded data removed]",
      "text/plain": [
       "<matplotlib.figure.Figure at 0x7f3fb5909ef0>"
      ]
     },
     "metadata": {},
     "output_type": "display_data"
    }
   ],
   "source": [
    "_, ax = pl.subplots(ncols=2, sharey=True, figsize=(22, 10))\n",
    "df_pivot_ws = df.pivot('Month', 'Year', 'WS')\n",
    "df_pivot_strand = df.pivot('Month', 'Year', 'num_stranded')\n",
    "sb.heatmap(df_pivot_ws, annot=True, ax=ax[0])\n",
    "sb.heatmap(df_pivot_strand, annot=True, ax=ax[1])"
   ]
  },
  {
   "cell_type": "code",
   "execution_count": 34,
   "metadata": {},
   "outputs": [
    {
     "data": {
      "text/html": [
       "<div>\n",
       "<style scoped>\n",
       "    .dataframe tbody tr th:only-of-type {\n",
       "        vertical-align: middle;\n",
       "    }\n",
       "\n",
       "    .dataframe tbody tr th {\n",
       "        vertical-align: top;\n",
       "    }\n",
       "\n",
       "    .dataframe thead th {\n",
       "        text-align: right;\n",
       "    }\n",
       "</style>\n",
       "<table border=\"1\" class=\"dataframe\">\n",
       "  <thead>\n",
       "    <tr style=\"text-align: right;\">\n",
       "      <th></th>\n",
       "      <th>num_stranded</th>\n",
       "    </tr>\n",
       "  </thead>\n",
       "  <tbody>\n",
       "    <tr>\n",
       "      <th>1999-03-07</th>\n",
       "      <td>6.0</td>\n",
       "    </tr>\n",
       "    <tr>\n",
       "      <th>1999-03-08</th>\n",
       "      <td>0.0</td>\n",
       "    </tr>\n",
       "    <tr>\n",
       "      <th>1999-03-09</th>\n",
       "      <td>0.0</td>\n",
       "    </tr>\n",
       "    <tr>\n",
       "      <th>1999-03-10</th>\n",
       "      <td>0.0</td>\n",
       "    </tr>\n",
       "    <tr>\n",
       "      <th>1999-03-11</th>\n",
       "      <td>0.0</td>\n",
       "    </tr>\n",
       "  </tbody>\n",
       "</table>\n",
       "</div>"
      ],
      "text/plain": [
       "            num_stranded\n",
       "1999-03-07           6.0\n",
       "1999-03-08           0.0\n",
       "1999-03-09           0.0\n",
       "1999-03-10           0.0\n",
       "1999-03-11           0.0"
      ]
     },
     "execution_count": 34,
     "metadata": {},
     "output_type": "execute_result"
    }
   ],
   "source": [
    "strandings.head()"
   ]
  },
  {
   "cell_type": "code",
   "execution_count": 36,
   "metadata": {},
   "outputs": [
    {
     "data": {
      "text/html": [
       "<div>\n",
       "<style scoped>\n",
       "    .dataframe tbody tr th:only-of-type {\n",
       "        vertical-align: middle;\n",
       "    }\n",
       "\n",
       "    .dataframe tbody tr th {\n",
       "        vertical-align: top;\n",
       "    }\n",
       "\n",
       "    .dataframe thead th {\n",
       "        text-align: right;\n",
       "    }\n",
       "</style>\n",
       "<table border=\"1\" class=\"dataframe\">\n",
       "  <thead>\n",
       "    <tr style=\"text-align: right;\">\n",
       "      <th></th>\n",
       "      <th>WS</th>\n",
       "      <th>Month</th>\n",
       "      <th>Year</th>\n",
       "    </tr>\n",
       "  </thead>\n",
       "  <tbody>\n",
       "    <tr>\n",
       "      <th>1999-01-01</th>\n",
       "      <td>8.596158</td>\n",
       "      <td>1</td>\n",
       "      <td>1999</td>\n",
       "    </tr>\n",
       "    <tr>\n",
       "      <th>1999-01-02</th>\n",
       "      <td>10.573917</td>\n",
       "      <td>1</td>\n",
       "      <td>1999</td>\n",
       "    </tr>\n",
       "    <tr>\n",
       "      <th>1999-01-03</th>\n",
       "      <td>6.326630</td>\n",
       "      <td>1</td>\n",
       "      <td>1999</td>\n",
       "    </tr>\n",
       "    <tr>\n",
       "      <th>1999-01-04</th>\n",
       "      <td>7.188480</td>\n",
       "      <td>1</td>\n",
       "      <td>1999</td>\n",
       "    </tr>\n",
       "    <tr>\n",
       "      <th>1999-01-05</th>\n",
       "      <td>8.480868</td>\n",
       "      <td>1</td>\n",
       "      <td>1999</td>\n",
       "    </tr>\n",
       "  </tbody>\n",
       "</table>\n",
       "</div>"
      ],
      "text/plain": [
       "                   WS  Month  Year\n",
       "1999-01-01   8.596158      1  1999\n",
       "1999-01-02  10.573917      1  1999\n",
       "1999-01-03   6.326630      1  1999\n",
       "1999-01-04   7.188480      1  1999\n",
       "1999-01-05   8.480868      1  1999"
      ]
     },
     "execution_count": 36,
     "metadata": {},
     "output_type": "execute_result"
    }
   ],
   "source": [
    "df.head()"
   ]
  },
  {
   "cell_type": "markdown",
   "metadata": {},
   "source": [
    "My first model will be that of a logistic regression, with the goal of predicting when any strandings (TOTAL>0) occurs. Note here that a stranding event was originally labeled as such when more than one animal had stranded."
   ]
  },
  {
   "cell_type": "markdown",
   "metadata": {},
   "source": [
    "There are some nans among the wind, so I'll make a new dataframe with both wind and strandings and drop rows where nans appear"
   ]
  },
  {
   "cell_type": "code",
   "execution_count": 44,
   "metadata": {
    "collapsed": true
   },
   "outputs": [],
   "source": [
    "dfs = pd.concat([df[['EasterlyWS', 'SoutherlyWS']], strandings], axis=1)\n",
    "dfs.rename(columns={None: 'TotalStranded'}, inplace=True)"
   ]
  },
  {
   "cell_type": "code",
   "execution_count": 48,
   "metadata": {},
   "outputs": [],
   "source": [
    "dfs['month'] = dfs.index.month"
   ]
  },
  {
   "cell_type": "code",
   "execution_count": 49,
   "metadata": {},
   "outputs": [
    {
     "data": {
      "text/html": [
       "<div>\n",
       "<style scoped>\n",
       "    .dataframe tbody tr th:only-of-type {\n",
       "        vertical-align: middle;\n",
       "    }\n",
       "\n",
       "    .dataframe tbody tr th {\n",
       "        vertical-align: top;\n",
       "    }\n",
       "\n",
       "    .dataframe thead th {\n",
       "        text-align: right;\n",
       "    }\n",
       "</style>\n",
       "<table border=\"1\" class=\"dataframe\">\n",
       "  <thead>\n",
       "    <tr style=\"text-align: right;\">\n",
       "      <th></th>\n",
       "      <th>EasterlyWS</th>\n",
       "      <th>SoutherlyWS</th>\n",
       "      <th>num_stranded</th>\n",
       "      <th>month</th>\n",
       "    </tr>\n",
       "  </thead>\n",
       "  <tbody>\n",
       "    <tr>\n",
       "      <th>1999-01-01</th>\n",
       "      <td>-8.369086</td>\n",
       "      <td>-1.962736</td>\n",
       "      <td>NaN</td>\n",
       "      <td>1</td>\n",
       "    </tr>\n",
       "    <tr>\n",
       "      <th>1999-01-02</th>\n",
       "      <td>-10.358338</td>\n",
       "      <td>2.124278</td>\n",
       "      <td>NaN</td>\n",
       "      <td>1</td>\n",
       "    </tr>\n",
       "    <tr>\n",
       "      <th>1999-01-03</th>\n",
       "      <td>5.530758</td>\n",
       "      <td>-3.071964</td>\n",
       "      <td>NaN</td>\n",
       "      <td>1</td>\n",
       "    </tr>\n",
       "    <tr>\n",
       "      <th>1999-01-04</th>\n",
       "      <td>-6.726604</td>\n",
       "      <td>-2.535160</td>\n",
       "      <td>NaN</td>\n",
       "      <td>1</td>\n",
       "    </tr>\n",
       "    <tr>\n",
       "      <th>1999-01-05</th>\n",
       "      <td>-8.472319</td>\n",
       "      <td>-0.380683</td>\n",
       "      <td>NaN</td>\n",
       "      <td>1</td>\n",
       "    </tr>\n",
       "  </tbody>\n",
       "</table>\n",
       "</div>"
      ],
      "text/plain": [
       "            EasterlyWS  SoutherlyWS  num_stranded  month\n",
       "1999-01-01   -8.369086    -1.962736           NaN      1\n",
       "1999-01-02  -10.358338     2.124278           NaN      1\n",
       "1999-01-03    5.530758    -3.071964           NaN      1\n",
       "1999-01-04   -6.726604    -2.535160           NaN      1\n",
       "1999-01-05   -8.472319    -0.380683           NaN      1"
      ]
     },
     "execution_count": 49,
     "metadata": {},
     "output_type": "execute_result"
    }
   ],
   "source": [
    "dfs.head()"
   ]
  },
  {
   "cell_type": "code",
   "execution_count": 43,
   "metadata": {
    "collapsed": true
   },
   "outputs": [],
   "source": [
    "boolStrand = strandings>0\n",
    "boolStrand.rename(columns={None: 'stranded'}, inplace=True)"
   ]
  },
  {
   "cell_type": "code",
   "execution_count": 44,
   "metadata": {},
   "outputs": [
    {
     "data": {
      "text/html": [
       "<div>\n",
       "<style scoped>\n",
       "    .dataframe tbody tr th:only-of-type {\n",
       "        vertical-align: middle;\n",
       "    }\n",
       "\n",
       "    .dataframe tbody tr th {\n",
       "        vertical-align: top;\n",
       "    }\n",
       "\n",
       "    .dataframe thead th {\n",
       "        text-align: right;\n",
       "    }\n",
       "</style>\n",
       "<table border=\"1\" class=\"dataframe\">\n",
       "  <thead>\n",
       "    <tr style=\"text-align: right;\">\n",
       "      <th></th>\n",
       "      <th>stranded</th>\n",
       "    </tr>\n",
       "  </thead>\n",
       "  <tbody>\n",
       "    <tr>\n",
       "      <th>1999-03-07</th>\n",
       "      <td>True</td>\n",
       "    </tr>\n",
       "    <tr>\n",
       "      <th>1999-03-08</th>\n",
       "      <td>False</td>\n",
       "    </tr>\n",
       "    <tr>\n",
       "      <th>1999-03-09</th>\n",
       "      <td>False</td>\n",
       "    </tr>\n",
       "    <tr>\n",
       "      <th>1999-03-10</th>\n",
       "      <td>False</td>\n",
       "    </tr>\n",
       "    <tr>\n",
       "      <th>1999-03-11</th>\n",
       "      <td>False</td>\n",
       "    </tr>\n",
       "  </tbody>\n",
       "</table>\n",
       "</div>"
      ],
      "text/plain": [
       "            stranded\n",
       "1999-03-07      True\n",
       "1999-03-08     False\n",
       "1999-03-09     False\n",
       "1999-03-10     False\n",
       "1999-03-11     False"
      ]
     },
     "execution_count": 44,
     "metadata": {},
     "output_type": "execute_result"
    }
   ],
   "source": [
    "boolStrand.head()"
   ]
  },
  {
   "cell_type": "code",
   "execution_count": 45,
   "metadata": {
    "collapsed": true
   },
   "outputs": [],
   "source": [
    "dfs = pd.concat([wind, boolStrand], axis=1)"
   ]
  },
  {
   "cell_type": "code",
   "execution_count": 46,
   "metadata": {},
   "outputs": [
    {
     "data": {
      "text/html": [
       "<div>\n",
       "<style scoped>\n",
       "    .dataframe tbody tr th:only-of-type {\n",
       "        vertical-align: middle;\n",
       "    }\n",
       "\n",
       "    .dataframe tbody tr th {\n",
       "        vertical-align: top;\n",
       "    }\n",
       "\n",
       "    .dataframe thead th {\n",
       "        text-align: right;\n",
       "    }\n",
       "</style>\n",
       "<table border=\"1\" class=\"dataframe\">\n",
       "  <thead>\n",
       "    <tr style=\"text-align: right;\">\n",
       "      <th></th>\n",
       "      <th>EasterlyWS</th>\n",
       "      <th>SoutherlyWS</th>\n",
       "      <th>EasterlyWS_1d</th>\n",
       "      <th>SoutherlyWS_1d</th>\n",
       "      <th>EasterlyWS_2d</th>\n",
       "      <th>SoutherlyWS_2d</th>\n",
       "      <th>EasterlyWS_3d</th>\n",
       "      <th>SoutherlyWS_3d</th>\n",
       "      <th>EasterlyWS_7d</th>\n",
       "      <th>SoutherlyWS_7d</th>\n",
       "      <th>EasterlyWS_30d</th>\n",
       "      <th>SoutherlyWS_30d</th>\n",
       "      <th>stranded</th>\n",
       "    </tr>\n",
       "  </thead>\n",
       "  <tbody>\n",
       "    <tr>\n",
       "      <th>1999-03-07</th>\n",
       "      <td>-1.597614</td>\n",
       "      <td>11.183859</td>\n",
       "      <td>3.570062</td>\n",
       "      <td>2.563992</td>\n",
       "      <td>-9.224087</td>\n",
       "      <td>-0.046570</td>\n",
       "      <td>3.179750</td>\n",
       "      <td>-9.103259</td>\n",
       "      <td>2.036880</td>\n",
       "      <td>-1.265833</td>\n",
       "      <td>-5.350695</td>\n",
       "      <td>5.959278</td>\n",
       "      <td>True</td>\n",
       "    </tr>\n",
       "    <tr>\n",
       "      <th>1999-03-08</th>\n",
       "      <td>-10.374381</td>\n",
       "      <td>7.568804</td>\n",
       "      <td>-1.597614</td>\n",
       "      <td>11.183859</td>\n",
       "      <td>3.570062</td>\n",
       "      <td>2.563992</td>\n",
       "      <td>-9.224087</td>\n",
       "      <td>-0.046570</td>\n",
       "      <td>2.733924</td>\n",
       "      <td>-6.260351</td>\n",
       "      <td>-4.862086</td>\n",
       "      <td>1.981418</td>\n",
       "      <td>False</td>\n",
       "    </tr>\n",
       "    <tr>\n",
       "      <th>1999-03-09</th>\n",
       "      <td>-8.124423</td>\n",
       "      <td>5.416860</td>\n",
       "      <td>-10.374381</td>\n",
       "      <td>7.568804</td>\n",
       "      <td>-1.597614</td>\n",
       "      <td>11.183859</td>\n",
       "      <td>3.570062</td>\n",
       "      <td>2.563992</td>\n",
       "      <td>-4.567401</td>\n",
       "      <td>-4.513101</td>\n",
       "      <td>-7.616287</td>\n",
       "      <td>2.540035</td>\n",
       "      <td>False</td>\n",
       "    </tr>\n",
       "    <tr>\n",
       "      <th>1999-03-10</th>\n",
       "      <td>-4.053519</td>\n",
       "      <td>2.885376</td>\n",
       "      <td>-8.124423</td>\n",
       "      <td>5.416860</td>\n",
       "      <td>-10.374381</td>\n",
       "      <td>7.568804</td>\n",
       "      <td>-1.597614</td>\n",
       "      <td>11.183859</td>\n",
       "      <td>-1.074112</td>\n",
       "      <td>-1.885289</td>\n",
       "      <td>-0.946676</td>\n",
       "      <td>4.569450</td>\n",
       "      <td>False</td>\n",
       "    </tr>\n",
       "    <tr>\n",
       "      <th>1999-03-11</th>\n",
       "      <td>-7.269797</td>\n",
       "      <td>4.485525</td>\n",
       "      <td>-4.053519</td>\n",
       "      <td>2.885376</td>\n",
       "      <td>-8.124423</td>\n",
       "      <td>5.416860</td>\n",
       "      <td>-10.374381</td>\n",
       "      <td>7.568804</td>\n",
       "      <td>3.179750</td>\n",
       "      <td>-9.103259</td>\n",
       "      <td>-2.245282</td>\n",
       "      <td>-2.983975</td>\n",
       "      <td>False</td>\n",
       "    </tr>\n",
       "  </tbody>\n",
       "</table>\n",
       "</div>"
      ],
      "text/plain": [
       "            EasterlyWS  SoutherlyWS  EasterlyWS_1d  SoutherlyWS_1d  \\\n",
       "1999-03-07   -1.597614    11.183859       3.570062        2.563992   \n",
       "1999-03-08  -10.374381     7.568804      -1.597614       11.183859   \n",
       "1999-03-09   -8.124423     5.416860     -10.374381        7.568804   \n",
       "1999-03-10   -4.053519     2.885376      -8.124423        5.416860   \n",
       "1999-03-11   -7.269797     4.485525      -4.053519        2.885376   \n",
       "\n",
       "            EasterlyWS_2d  SoutherlyWS_2d  EasterlyWS_3d  SoutherlyWS_3d  \\\n",
       "1999-03-07      -9.224087       -0.046570       3.179750       -9.103259   \n",
       "1999-03-08       3.570062        2.563992      -9.224087       -0.046570   \n",
       "1999-03-09      -1.597614       11.183859       3.570062        2.563992   \n",
       "1999-03-10     -10.374381        7.568804      -1.597614       11.183859   \n",
       "1999-03-11      -8.124423        5.416860     -10.374381        7.568804   \n",
       "\n",
       "            EasterlyWS_7d  SoutherlyWS_7d  EasterlyWS_30d  SoutherlyWS_30d  \\\n",
       "1999-03-07       2.036880       -1.265833       -5.350695         5.959278   \n",
       "1999-03-08       2.733924       -6.260351       -4.862086         1.981418   \n",
       "1999-03-09      -4.567401       -4.513101       -7.616287         2.540035   \n",
       "1999-03-10      -1.074112       -1.885289       -0.946676         4.569450   \n",
       "1999-03-11       3.179750       -9.103259       -2.245282        -2.983975   \n",
       "\n",
       "            stranded  \n",
       "1999-03-07      True  \n",
       "1999-03-08     False  \n",
       "1999-03-09     False  \n",
       "1999-03-10     False  \n",
       "1999-03-11     False  "
      ]
     },
     "execution_count": 46,
     "metadata": {},
     "output_type": "execute_result"
    }
   ],
   "source": [
    "dfs.head()"
   ]
  },
  {
   "cell_type": "code",
   "execution_count": 55,
   "metadata": {
    "collapsed": true
   },
   "outputs": [],
   "source": [
    "df_clean = df.dropna()\n",
    "x_wind = df_clean.as_matrix(columns=['EasterlyWS', 'SoutherlyWS'])\n",
    "y_bool = df_clean.TotalStranded.values\n",
    "ss = StandardScaler()\n",
    "x_wind_s = ss.fit_transform(x_wind)"
   ]
  },
  {
   "cell_type": "code",
   "execution_count": 28,
   "metadata": {
    "collapsed": true
   },
   "outputs": [],
   "source": [
    "num_samples = y_bool.size"
   ]
  },
  {
   "cell_type": "markdown",
   "metadata": {
    "collapsed": true
   },
   "source": [
    "Can I make cyclical time?"
   ]
  },
  {
   "cell_type": "code",
   "execution_count": 50,
   "metadata": {},
   "outputs": [
    {
     "data": {
      "text/html": [
       "<div>\n",
       "<style scoped>\n",
       "    .dataframe tbody tr th:only-of-type {\n",
       "        vertical-align: middle;\n",
       "    }\n",
       "\n",
       "    .dataframe tbody tr th {\n",
       "        vertical-align: top;\n",
       "    }\n",
       "\n",
       "    .dataframe thead th {\n",
       "        text-align: right;\n",
       "    }\n",
       "</style>\n",
       "<table border=\"1\" class=\"dataframe\">\n",
       "  <thead>\n",
       "    <tr style=\"text-align: right;\">\n",
       "      <th></th>\n",
       "      <th>EasterlyWS</th>\n",
       "      <th>SoutherlyWS</th>\n",
       "      <th>num_stranded</th>\n",
       "      <th>month</th>\n",
       "    </tr>\n",
       "  </thead>\n",
       "  <tbody>\n",
       "    <tr>\n",
       "      <th>1999-01-01</th>\n",
       "      <td>-8.369086</td>\n",
       "      <td>-1.962736</td>\n",
       "      <td>NaN</td>\n",
       "      <td>1</td>\n",
       "    </tr>\n",
       "    <tr>\n",
       "      <th>1999-01-02</th>\n",
       "      <td>-10.358338</td>\n",
       "      <td>2.124278</td>\n",
       "      <td>NaN</td>\n",
       "      <td>1</td>\n",
       "    </tr>\n",
       "    <tr>\n",
       "      <th>1999-01-03</th>\n",
       "      <td>5.530758</td>\n",
       "      <td>-3.071964</td>\n",
       "      <td>NaN</td>\n",
       "      <td>1</td>\n",
       "    </tr>\n",
       "    <tr>\n",
       "      <th>1999-01-04</th>\n",
       "      <td>-6.726604</td>\n",
       "      <td>-2.535160</td>\n",
       "      <td>NaN</td>\n",
       "      <td>1</td>\n",
       "    </tr>\n",
       "    <tr>\n",
       "      <th>1999-01-05</th>\n",
       "      <td>-8.472319</td>\n",
       "      <td>-0.380683</td>\n",
       "      <td>NaN</td>\n",
       "      <td>1</td>\n",
       "    </tr>\n",
       "  </tbody>\n",
       "</table>\n",
       "</div>"
      ],
      "text/plain": [
       "            EasterlyWS  SoutherlyWS  num_stranded  month\n",
       "1999-01-01   -8.369086    -1.962736           NaN      1\n",
       "1999-01-02  -10.358338     2.124278           NaN      1\n",
       "1999-01-03    5.530758    -3.071964           NaN      1\n",
       "1999-01-04   -6.726604    -2.535160           NaN      1\n",
       "1999-01-05   -8.472319    -0.380683           NaN      1"
      ]
     },
     "execution_count": 50,
     "metadata": {},
     "output_type": "execute_result"
    }
   ],
   "source": [
    "dfs.head()"
   ]
  },
  {
   "cell_type": "code",
   "execution_count": 43,
   "metadata": {},
   "outputs": [
    {
     "data": {
      "text/html": [
       "<div>\n",
       "<style scoped>\n",
       "    .dataframe tbody tr th:only-of-type {\n",
       "        vertical-align: middle;\n",
       "    }\n",
       "\n",
       "    .dataframe tbody tr th {\n",
       "        vertical-align: top;\n",
       "    }\n",
       "\n",
       "    .dataframe thead th {\n",
       "        text-align: right;\n",
       "    }\n",
       "</style>\n",
       "<table border=\"1\" class=\"dataframe\">\n",
       "  <thead>\n",
       "    <tr style=\"text-align: right;\">\n",
       "      <th></th>\n",
       "      <th>EasterlyWS</th>\n",
       "      <th>SoutherlyWS</th>\n",
       "      <th>EasterlyWS_1d</th>\n",
       "      <th>SoutherlyWS_1d</th>\n",
       "      <th>EasterlyWS_2d</th>\n",
       "      <th>SoutherlyWS_2d</th>\n",
       "      <th>EasterlyWS_3d</th>\n",
       "      <th>SoutherlyWS_3d</th>\n",
       "      <th>EasterlyWS_7d</th>\n",
       "      <th>SoutherlyWS_7d</th>\n",
       "      <th>EasterlyWS_30d</th>\n",
       "      <th>SoutherlyWS_30d</th>\n",
       "      <th>Month</th>\n",
       "      <th>Year</th>\n",
       "    </tr>\n",
       "  </thead>\n",
       "  <tbody>\n",
       "    <tr>\n",
       "      <th>1999-01-01</th>\n",
       "      <td>-8.369086</td>\n",
       "      <td>-1.962736</td>\n",
       "      <td>NaN</td>\n",
       "      <td>NaN</td>\n",
       "      <td>NaN</td>\n",
       "      <td>NaN</td>\n",
       "      <td>NaN</td>\n",
       "      <td>NaN</td>\n",
       "      <td>NaN</td>\n",
       "      <td>NaN</td>\n",
       "      <td>NaN</td>\n",
       "      <td>NaN</td>\n",
       "      <td>1</td>\n",
       "      <td>1999</td>\n",
       "    </tr>\n",
       "    <tr>\n",
       "      <th>1999-01-02</th>\n",
       "      <td>-10.358338</td>\n",
       "      <td>2.124278</td>\n",
       "      <td>-8.369086</td>\n",
       "      <td>-1.962736</td>\n",
       "      <td>NaN</td>\n",
       "      <td>NaN</td>\n",
       "      <td>NaN</td>\n",
       "      <td>NaN</td>\n",
       "      <td>NaN</td>\n",
       "      <td>NaN</td>\n",
       "      <td>NaN</td>\n",
       "      <td>NaN</td>\n",
       "      <td>1</td>\n",
       "      <td>1999</td>\n",
       "    </tr>\n",
       "    <tr>\n",
       "      <th>1999-01-03</th>\n",
       "      <td>5.530758</td>\n",
       "      <td>-3.071964</td>\n",
       "      <td>-10.358338</td>\n",
       "      <td>2.124278</td>\n",
       "      <td>-8.369086</td>\n",
       "      <td>-1.962736</td>\n",
       "      <td>NaN</td>\n",
       "      <td>NaN</td>\n",
       "      <td>NaN</td>\n",
       "      <td>NaN</td>\n",
       "      <td>NaN</td>\n",
       "      <td>NaN</td>\n",
       "      <td>1</td>\n",
       "      <td>1999</td>\n",
       "    </tr>\n",
       "    <tr>\n",
       "      <th>1999-01-04</th>\n",
       "      <td>-6.726604</td>\n",
       "      <td>-2.535160</td>\n",
       "      <td>5.530758</td>\n",
       "      <td>-3.071964</td>\n",
       "      <td>-10.358338</td>\n",
       "      <td>2.124278</td>\n",
       "      <td>-8.369086</td>\n",
       "      <td>-1.962736</td>\n",
       "      <td>NaN</td>\n",
       "      <td>NaN</td>\n",
       "      <td>NaN</td>\n",
       "      <td>NaN</td>\n",
       "      <td>1</td>\n",
       "      <td>1999</td>\n",
       "    </tr>\n",
       "    <tr>\n",
       "      <th>1999-01-05</th>\n",
       "      <td>-8.472319</td>\n",
       "      <td>-0.380683</td>\n",
       "      <td>-6.726604</td>\n",
       "      <td>-2.535160</td>\n",
       "      <td>5.530758</td>\n",
       "      <td>-3.071964</td>\n",
       "      <td>-10.358338</td>\n",
       "      <td>2.124278</td>\n",
       "      <td>NaN</td>\n",
       "      <td>NaN</td>\n",
       "      <td>NaN</td>\n",
       "      <td>NaN</td>\n",
       "      <td>1</td>\n",
       "      <td>1999</td>\n",
       "    </tr>\n",
       "  </tbody>\n",
       "</table>\n",
       "</div>"
      ],
      "text/plain": [
       "            EasterlyWS  SoutherlyWS  EasterlyWS_1d  SoutherlyWS_1d  \\\n",
       "1999-01-01   -8.369086    -1.962736            NaN             NaN   \n",
       "1999-01-02  -10.358338     2.124278      -8.369086       -1.962736   \n",
       "1999-01-03    5.530758    -3.071964     -10.358338        2.124278   \n",
       "1999-01-04   -6.726604    -2.535160       5.530758       -3.071964   \n",
       "1999-01-05   -8.472319    -0.380683      -6.726604       -2.535160   \n",
       "\n",
       "            EasterlyWS_2d  SoutherlyWS_2d  EasterlyWS_3d  SoutherlyWS_3d  \\\n",
       "1999-01-01            NaN             NaN            NaN             NaN   \n",
       "1999-01-02            NaN             NaN            NaN             NaN   \n",
       "1999-01-03      -8.369086       -1.962736            NaN             NaN   \n",
       "1999-01-04     -10.358338        2.124278      -8.369086       -1.962736   \n",
       "1999-01-05       5.530758       -3.071964     -10.358338        2.124278   \n",
       "\n",
       "            EasterlyWS_7d  SoutherlyWS_7d  EasterlyWS_30d  SoutherlyWS_30d  \\\n",
       "1999-01-01            NaN             NaN             NaN              NaN   \n",
       "1999-01-02            NaN             NaN             NaN              NaN   \n",
       "1999-01-03            NaN             NaN             NaN              NaN   \n",
       "1999-01-04            NaN             NaN             NaN              NaN   \n",
       "1999-01-05            NaN             NaN             NaN              NaN   \n",
       "\n",
       "            Month  Year  \n",
       "1999-01-01      1  1999  \n",
       "1999-01-02      1  1999  \n",
       "1999-01-03      1  1999  \n",
       "1999-01-04      1  1999  \n",
       "1999-01-05      1  1999  "
      ]
     },
     "execution_count": 43,
     "metadata": {},
     "output_type": "execute_result"
    }
   ],
   "source": [
    "df.head()"
   ]
  },
  {
   "cell_type": "code",
   "execution_count": 51,
   "metadata": {
    "collapsed": true
   },
   "outputs": [],
   "source": [
    "dfs['sin_month'] = np.sin(2*np.pi * dfs.month / 12)\n",
    "dfs['cos_month'] = np.cos(2*np.pi * dfs.month / 12)"
   ]
  },
  {
   "cell_type": "code",
   "execution_count": 55,
   "metadata": {},
   "outputs": [
    {
     "data": {
      "text/plain": [
       "array([  5.00000000e-01,   8.66025404e-01,   1.00000000e+00,\n",
       "         8.66025404e-01,   1.22464680e-16,  -5.00000000e-01,\n",
       "        -8.66025404e-01,  -1.00000000e+00,  -8.66025404e-01,\n",
       "        -5.00000000e-01,  -2.44929360e-16])"
      ]
     },
     "execution_count": 55,
     "metadata": {},
     "output_type": "execute_result"
    }
   ],
   "source": [
    "dfs.sin_month.unique()"
   ]
  },
  {
   "cell_type": "code",
   "execution_count": 52,
   "metadata": {},
   "outputs": [
    {
     "data": {
      "text/html": [
       "<div>\n",
       "<style scoped>\n",
       "    .dataframe tbody tr th:only-of-type {\n",
       "        vertical-align: middle;\n",
       "    }\n",
       "\n",
       "    .dataframe tbody tr th {\n",
       "        vertical-align: top;\n",
       "    }\n",
       "\n",
       "    .dataframe thead th {\n",
       "        text-align: right;\n",
       "    }\n",
       "</style>\n",
       "<table border=\"1\" class=\"dataframe\">\n",
       "  <thead>\n",
       "    <tr style=\"text-align: right;\">\n",
       "      <th></th>\n",
       "      <th>EasterlyWS</th>\n",
       "      <th>SoutherlyWS</th>\n",
       "      <th>num_stranded</th>\n",
       "      <th>month</th>\n",
       "      <th>sin_month</th>\n",
       "      <th>cos_month</th>\n",
       "    </tr>\n",
       "  </thead>\n",
       "  <tbody>\n",
       "    <tr>\n",
       "      <th>1999-01-01</th>\n",
       "      <td>-8.369086</td>\n",
       "      <td>-1.962736</td>\n",
       "      <td>NaN</td>\n",
       "      <td>1</td>\n",
       "      <td>0.5</td>\n",
       "      <td>0.866025</td>\n",
       "    </tr>\n",
       "    <tr>\n",
       "      <th>1999-01-02</th>\n",
       "      <td>-10.358338</td>\n",
       "      <td>2.124278</td>\n",
       "      <td>NaN</td>\n",
       "      <td>1</td>\n",
       "      <td>0.5</td>\n",
       "      <td>0.866025</td>\n",
       "    </tr>\n",
       "    <tr>\n",
       "      <th>1999-01-03</th>\n",
       "      <td>5.530758</td>\n",
       "      <td>-3.071964</td>\n",
       "      <td>NaN</td>\n",
       "      <td>1</td>\n",
       "      <td>0.5</td>\n",
       "      <td>0.866025</td>\n",
       "    </tr>\n",
       "    <tr>\n",
       "      <th>1999-01-04</th>\n",
       "      <td>-6.726604</td>\n",
       "      <td>-2.535160</td>\n",
       "      <td>NaN</td>\n",
       "      <td>1</td>\n",
       "      <td>0.5</td>\n",
       "      <td>0.866025</td>\n",
       "    </tr>\n",
       "    <tr>\n",
       "      <th>1999-01-05</th>\n",
       "      <td>-8.472319</td>\n",
       "      <td>-0.380683</td>\n",
       "      <td>NaN</td>\n",
       "      <td>1</td>\n",
       "      <td>0.5</td>\n",
       "      <td>0.866025</td>\n",
       "    </tr>\n",
       "  </tbody>\n",
       "</table>\n",
       "</div>"
      ],
      "text/plain": [
       "            EasterlyWS  SoutherlyWS  num_stranded  month  sin_month  cos_month\n",
       "1999-01-01   -8.369086    -1.962736           NaN      1        0.5   0.866025\n",
       "1999-01-02  -10.358338     2.124278           NaN      1        0.5   0.866025\n",
       "1999-01-03    5.530758    -3.071964           NaN      1        0.5   0.866025\n",
       "1999-01-04   -6.726604    -2.535160           NaN      1        0.5   0.866025\n",
       "1999-01-05   -8.472319    -0.380683           NaN      1        0.5   0.866025"
      ]
     },
     "execution_count": 52,
     "metadata": {},
     "output_type": "execute_result"
    }
   ],
   "source": [
    "dfs.head()"
   ]
  },
  {
   "cell_type": "code",
   "execution_count": null,
   "metadata": {
    "collapsed": true
   },
   "outputs": [],
   "source": []
  }
 ],
 "metadata": {
  "kernelspec": {
   "display_name": "Python 3",
   "language": "python",
   "name": "python3"
  },
  "language_info": {
   "codemirror_mode": {
    "name": "ipython",
    "version": 3
   },
   "file_extension": ".py",
   "mimetype": "text/x-python",
   "name": "python",
   "nbconvert_exporter": "python",
   "pygments_lexer": "ipython3",
   "version": "3.6.3"
  }
 },
 "nbformat": 4,
 "nbformat_minor": 2
}

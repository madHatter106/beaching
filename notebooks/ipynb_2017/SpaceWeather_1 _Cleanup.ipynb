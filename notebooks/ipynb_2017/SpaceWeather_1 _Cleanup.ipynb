{
 "cells": [
  {
   "cell_type": "code",
   "execution_count": 1,
   "metadata": {
    "collapsed": true
   },
   "outputs": [],
   "source": [
    "import pandas as pd\n",
    "import numpy as np\n",
    "import os"
   ]
  },
  {
   "cell_type": "code",
   "execution_count": 2,
   "metadata": {},
   "outputs": [],
   "source": [
    "fp = '/home/madhatter106/DATA/Beaching_Project/CapeCodData/SpaceWeather/SpaceWeatherDataHourly.txt'\n",
    "skip_lines=8\n",
    "dfSW = pd.read_csv(fp, skiprows=skip_lines, delim_whitespace=True,index_col='datetime',\n",
    "                   parse_dates={'datetime': [0, 1, 2]},\n",
    "                   date_parser=lambda x: pd.datetime.strptime(x, '%Y %j %H'))"
   ]
  },
  {
   "cell_type": "code",
   "execution_count": 3,
   "metadata": {},
   "outputs": [
    {
     "data": {
      "text/html": [
       "<div>\n",
       "<style>\n",
       "    .dataframe thead tr:only-child th {\n",
       "        text-align: right;\n",
       "    }\n",
       "\n",
       "    .dataframe thead th {\n",
       "        text-align: left;\n",
       "    }\n",
       "\n",
       "    .dataframe tbody tr th {\n",
       "        vertical-align: top;\n",
       "    }\n",
       "</style>\n",
       "<table border=\"1\" class=\"dataframe\">\n",
       "  <thead>\n",
       "    <tr style=\"text-align: right;\">\n",
       "      <th></th>\n",
       "      <th>Kp_index</th>\n",
       "      <th>Sunspot_No</th>\n",
       "      <th>Dst_index</th>\n",
       "      <th>AE_index</th>\n",
       "      <th>Proton_flux_gt30MeV</th>\n",
       "      <th>Proton_flux_gt60MeV</th>\n",
       "    </tr>\n",
       "    <tr>\n",
       "      <th>datetime</th>\n",
       "      <th></th>\n",
       "      <th></th>\n",
       "      <th></th>\n",
       "      <th></th>\n",
       "      <th></th>\n",
       "      <th></th>\n",
       "    </tr>\n",
       "  </thead>\n",
       "  <tbody>\n",
       "    <tr>\n",
       "      <th>1990-01-01 00:00:00</th>\n",
       "      <td>20</td>\n",
       "      <td>239</td>\n",
       "      <td>-45</td>\n",
       "      <td>54</td>\n",
       "      <td>99999.99</td>\n",
       "      <td>99999.99</td>\n",
       "    </tr>\n",
       "    <tr>\n",
       "      <th>1990-01-01 01:00:00</th>\n",
       "      <td>20</td>\n",
       "      <td>239</td>\n",
       "      <td>-46</td>\n",
       "      <td>44</td>\n",
       "      <td>99999.99</td>\n",
       "      <td>99999.99</td>\n",
       "    </tr>\n",
       "    <tr>\n",
       "      <th>1990-01-01 02:00:00</th>\n",
       "      <td>20</td>\n",
       "      <td>239</td>\n",
       "      <td>-44</td>\n",
       "      <td>35</td>\n",
       "      <td>99999.99</td>\n",
       "      <td>99999.99</td>\n",
       "    </tr>\n",
       "    <tr>\n",
       "      <th>1990-01-01 03:00:00</th>\n",
       "      <td>30</td>\n",
       "      <td>239</td>\n",
       "      <td>-43</td>\n",
       "      <td>66</td>\n",
       "      <td>99999.99</td>\n",
       "      <td>99999.99</td>\n",
       "    </tr>\n",
       "    <tr>\n",
       "      <th>1990-01-01 04:00:00</th>\n",
       "      <td>30</td>\n",
       "      <td>239</td>\n",
       "      <td>-47</td>\n",
       "      <td>152</td>\n",
       "      <td>99999.99</td>\n",
       "      <td>99999.99</td>\n",
       "    </tr>\n",
       "  </tbody>\n",
       "</table>\n",
       "</div>"
      ],
      "text/plain": [
       "                     Kp_index  Sunspot_No  Dst_index  AE_index  \\\n",
       "datetime                                                         \n",
       "1990-01-01 00:00:00        20         239        -45        54   \n",
       "1990-01-01 01:00:00        20         239        -46        44   \n",
       "1990-01-01 02:00:00        20         239        -44        35   \n",
       "1990-01-01 03:00:00        30         239        -43        66   \n",
       "1990-01-01 04:00:00        30         239        -47       152   \n",
       "\n",
       "                     Proton_flux_gt30MeV  Proton_flux_gt60MeV  \n",
       "datetime                                                       \n",
       "1990-01-01 00:00:00             99999.99             99999.99  \n",
       "1990-01-01 01:00:00             99999.99             99999.99  \n",
       "1990-01-01 02:00:00             99999.99             99999.99  \n",
       "1990-01-01 03:00:00             99999.99             99999.99  \n",
       "1990-01-01 04:00:00             99999.99             99999.99  "
      ]
     },
     "execution_count": 3,
     "metadata": {},
     "output_type": "execute_result"
    }
   ],
   "source": [
    "dfSW.head()"
   ]
  },
  {
   "cell_type": "code",
   "execution_count": 4,
   "metadata": {
    "collapsed": true
   },
   "outputs": [],
   "source": [
    "dfSW.to_pickle('../PklJar/dfSpaceWeather.pkl')"
   ]
  },
  {
   "cell_type": "code",
   "execution_count": null,
   "metadata": {
    "collapsed": true
   },
   "outputs": [],
   "source": []
  }
 ],
 "metadata": {
  "kernelspec": {
   "display_name": "Python 3",
   "language": "python",
   "name": "python3"
  },
  "language_info": {
   "codemirror_mode": {
    "name": "ipython",
    "version": 3
   },
   "file_extension": ".py",
   "mimetype": "text/x-python",
   "name": "python",
   "nbconvert_exporter": "python",
   "pygments_lexer": "ipython3",
   "version": "3.6.2"
  }
 },
 "nbformat": 4,
 "nbformat_minor": 2
}

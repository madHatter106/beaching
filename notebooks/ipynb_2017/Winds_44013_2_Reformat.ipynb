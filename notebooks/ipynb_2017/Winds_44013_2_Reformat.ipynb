{
 "cells": [
  {
   "cell_type": "code",
   "execution_count": 2,
   "metadata": {
    "collapsed": true
   },
   "outputs": [],
   "source": [
    "import pandas as pd\n",
    "import numpy as np\n",
    "import os"
   ]
  },
  {
   "cell_type": "markdown",
   "metadata": {},
   "source": [
    "<u>Reminder</u>:\n",
    "* **DPD:**\tDominant wave period (seconds) is the period with the maximum wave energy. See the Wave Measurements section.\n",
    "* **APD:**\tAverage wave period (seconds) of all waves during the 20-minute period. See the Wave Measurements section."
   ]
  },
  {
   "cell_type": "code",
   "execution_count": 21,
   "metadata": {
    "collapsed": true
   },
   "outputs": [],
   "source": [
    "dataMain = '/home/madhatter106/DATA/Beaching_Project/CapeCodData/'\n",
    "pklDir = os.path.join(dataMain, 'PklJar')\n",
    "df=pd.read_pickle(os.path.join(pklDir,'dfAgg.pkl'))\n",
    "df.rename(columns={'EasterlyPersistence': 'EasterlyWS',\n",
    "                   'SoutherlyPersistence': 'SoutherlyWS'}, inplace=True)"
   ]
  },
  {
   "cell_type": "code",
   "execution_count": 20,
   "metadata": {},
   "outputs": [
    {
     "data": {
      "text/html": [
       "<div>\n",
       "<style>\n",
       "    .dataframe thead tr:only-child th {\n",
       "        text-align: right;\n",
       "    }\n",
       "\n",
       "    .dataframe thead th {\n",
       "        text-align: left;\n",
       "    }\n",
       "\n",
       "    .dataframe tbody tr th {\n",
       "        vertical-align: top;\n",
       "    }\n",
       "</style>\n",
       "<table border=\"1\" class=\"dataframe\">\n",
       "  <thead>\n",
       "    <tr style=\"text-align: right;\">\n",
       "      <th></th>\n",
       "      <th>APD</th>\n",
       "      <th>ATMP</th>\n",
       "      <th>BAR</th>\n",
       "      <th>DPD</th>\n",
       "      <th>EasterlyWD</th>\n",
       "      <th>GST</th>\n",
       "      <th>SoutherlyWD</th>\n",
       "      <th>WD</th>\n",
       "      <th>WSPD</th>\n",
       "      <th>WTMP</th>\n",
       "      <th>WVHT</th>\n",
       "    </tr>\n",
       "    <tr>\n",
       "      <th>date</th>\n",
       "      <th></th>\n",
       "      <th></th>\n",
       "      <th></th>\n",
       "      <th></th>\n",
       "      <th></th>\n",
       "      <th></th>\n",
       "      <th></th>\n",
       "      <th></th>\n",
       "      <th></th>\n",
       "      <th></th>\n",
       "      <th></th>\n",
       "    </tr>\n",
       "  </thead>\n",
       "  <tbody>\n",
       "    <tr>\n",
       "      <th>1999-01-01 00:00:00</th>\n",
       "      <td>5.25</td>\n",
       "      <td>-4.3</td>\n",
       "      <td>1017.4</td>\n",
       "      <td>11.11</td>\n",
       "      <td>-3.542719</td>\n",
       "      <td>7.2</td>\n",
       "      <td>-4.075432</td>\n",
       "      <td>221.0</td>\n",
       "      <td>5.4</td>\n",
       "      <td>5.6</td>\n",
       "      <td>0.33</td>\n",
       "    </tr>\n",
       "    <tr>\n",
       "      <th>1999-01-01 01:00:00</th>\n",
       "      <td>5.51</td>\n",
       "      <td>-4.0</td>\n",
       "      <td>1016.5</td>\n",
       "      <td>11.11</td>\n",
       "      <td>-3.447704</td>\n",
       "      <td>7.3</td>\n",
       "      <td>-4.412860</td>\n",
       "      <td>218.0</td>\n",
       "      <td>5.6</td>\n",
       "      <td>5.7</td>\n",
       "      <td>0.31</td>\n",
       "    </tr>\n",
       "    <tr>\n",
       "      <th>1999-01-01 02:00:00</th>\n",
       "      <td>6.53</td>\n",
       "      <td>-3.9</td>\n",
       "      <td>1015.8</td>\n",
       "      <td>12.50</td>\n",
       "      <td>-4.100237</td>\n",
       "      <td>7.0</td>\n",
       "      <td>-3.959553</td>\n",
       "      <td>226.0</td>\n",
       "      <td>5.7</td>\n",
       "      <td>5.7</td>\n",
       "      <td>0.32</td>\n",
       "    </tr>\n",
       "    <tr>\n",
       "      <th>1999-01-01 03:00:00</th>\n",
       "      <td>6.17</td>\n",
       "      <td>-3.9</td>\n",
       "      <td>1015.3</td>\n",
       "      <td>11.11</td>\n",
       "      <td>-4.235926</td>\n",
       "      <td>7.3</td>\n",
       "      <td>-3.814044</td>\n",
       "      <td>228.0</td>\n",
       "      <td>5.7</td>\n",
       "      <td>5.7</td>\n",
       "      <td>0.31</td>\n",
       "    </tr>\n",
       "    <tr>\n",
       "      <th>1999-01-01 04:00:00</th>\n",
       "      <td>5.02</td>\n",
       "      <td>-3.8</td>\n",
       "      <td>1015.0</td>\n",
       "      <td>11.11</td>\n",
       "      <td>-4.948156</td>\n",
       "      <td>7.7</td>\n",
       "      <td>-3.213370</td>\n",
       "      <td>237.0</td>\n",
       "      <td>5.9</td>\n",
       "      <td>5.6</td>\n",
       "      <td>0.39</td>\n",
       "    </tr>\n",
       "  </tbody>\n",
       "</table>\n",
       "</div>"
      ],
      "text/plain": [
       "                      APD  ATMP     BAR    DPD  EasterlyWD  GST  SoutherlyWD  \\\n",
       "date                                                                           \n",
       "1999-01-01 00:00:00  5.25  -4.3  1017.4  11.11   -3.542719  7.2    -4.075432   \n",
       "1999-01-01 01:00:00  5.51  -4.0  1016.5  11.11   -3.447704  7.3    -4.412860   \n",
       "1999-01-01 02:00:00  6.53  -3.9  1015.8  12.50   -4.100237  7.0    -3.959553   \n",
       "1999-01-01 03:00:00  6.17  -3.9  1015.3  11.11   -4.235926  7.3    -3.814044   \n",
       "1999-01-01 04:00:00  5.02  -3.8  1015.0  11.11   -4.948156  7.7    -3.213370   \n",
       "\n",
       "                        WD  WSPD  WTMP  WVHT  \n",
       "date                                          \n",
       "1999-01-01 00:00:00  221.0   5.4   5.6  0.33  \n",
       "1999-01-01 01:00:00  218.0   5.6   5.7  0.31  \n",
       "1999-01-01 02:00:00  226.0   5.7   5.7  0.32  \n",
       "1999-01-01 03:00:00  228.0   5.7   5.7  0.31  \n",
       "1999-01-01 04:00:00  237.0   5.9   5.6  0.39  "
      ]
     },
     "execution_count": 20,
     "metadata": {},
     "output_type": "execute_result"
    }
   ],
   "source": [
    "df.head()"
   ]
  },
  {
   "cell_type": "code",
   "execution_count": 22,
   "metadata": {
    "collapsed": true
   },
   "outputs": [],
   "source": [
    "dfVars = ['EasterlyWS', 'SoutherlyWS', 'WTMP', 'WVHT', 'APD', 'DPD']\n",
    "dfDailyMean = df[dfVars].resample('D').mean()"
   ]
  },
  {
   "cell_type": "code",
   "execution_count": 23,
   "metadata": {},
   "outputs": [
    {
     "data": {
      "text/html": [
       "<div>\n",
       "<style>\n",
       "    .dataframe thead tr:only-child th {\n",
       "        text-align: right;\n",
       "    }\n",
       "\n",
       "    .dataframe thead th {\n",
       "        text-align: left;\n",
       "    }\n",
       "\n",
       "    .dataframe tbody tr th {\n",
       "        vertical-align: top;\n",
       "    }\n",
       "</style>\n",
       "<table border=\"1\" class=\"dataframe\">\n",
       "  <thead>\n",
       "    <tr style=\"text-align: right;\">\n",
       "      <th></th>\n",
       "      <th>EasterlyWS</th>\n",
       "      <th>SoutherlyWS</th>\n",
       "      <th>WTMP</th>\n",
       "      <th>WVHT</th>\n",
       "      <th>APD</th>\n",
       "      <th>DPD</th>\n",
       "    </tr>\n",
       "    <tr>\n",
       "      <th>date</th>\n",
       "      <th></th>\n",
       "      <th></th>\n",
       "      <th></th>\n",
       "      <th></th>\n",
       "      <th></th>\n",
       "      <th></th>\n",
       "    </tr>\n",
       "  </thead>\n",
       "  <tbody>\n",
       "    <tr>\n",
       "      <th>1999-01-01</th>\n",
       "      <td>-8.369086</td>\n",
       "      <td>-1.962736</td>\n",
       "      <td>5.629167</td>\n",
       "      <td>0.782083</td>\n",
       "      <td>4.260000</td>\n",
       "      <td>7.372083</td>\n",
       "    </tr>\n",
       "    <tr>\n",
       "      <th>1999-01-02</th>\n",
       "      <td>-10.358338</td>\n",
       "      <td>2.124278</td>\n",
       "      <td>5.470833</td>\n",
       "      <td>1.029167</td>\n",
       "      <td>3.723333</td>\n",
       "      <td>4.049167</td>\n",
       "    </tr>\n",
       "    <tr>\n",
       "      <th>1999-01-03</th>\n",
       "      <td>5.530758</td>\n",
       "      <td>-3.071964</td>\n",
       "      <td>5.187500</td>\n",
       "      <td>1.402083</td>\n",
       "      <td>3.920000</td>\n",
       "      <td>4.574583</td>\n",
       "    </tr>\n",
       "    <tr>\n",
       "      <th>1999-01-04</th>\n",
       "      <td>-6.726604</td>\n",
       "      <td>-2.535160</td>\n",
       "      <td>5.108333</td>\n",
       "      <td>1.735000</td>\n",
       "      <td>6.136667</td>\n",
       "      <td>10.669583</td>\n",
       "    </tr>\n",
       "    <tr>\n",
       "      <th>1999-01-05</th>\n",
       "      <td>-8.472319</td>\n",
       "      <td>-0.380683</td>\n",
       "      <td>4.904348</td>\n",
       "      <td>0.875000</td>\n",
       "      <td>4.175455</td>\n",
       "      <td>8.880909</td>\n",
       "    </tr>\n",
       "  </tbody>\n",
       "</table>\n",
       "</div>"
      ],
      "text/plain": [
       "            EasterlyWS  SoutherlyWS      WTMP      WVHT       APD        DPD\n",
       "date                                                                        \n",
       "1999-01-01   -8.369086    -1.962736  5.629167  0.782083  4.260000   7.372083\n",
       "1999-01-02  -10.358338     2.124278  5.470833  1.029167  3.723333   4.049167\n",
       "1999-01-03    5.530758    -3.071964  5.187500  1.402083  3.920000   4.574583\n",
       "1999-01-04   -6.726604    -2.535160  5.108333  1.735000  6.136667  10.669583\n",
       "1999-01-05   -8.472319    -0.380683  4.904348  0.875000  4.175455   8.880909"
      ]
     },
     "execution_count": 23,
     "metadata": {},
     "output_type": "execute_result"
    }
   ],
   "source": [
    "dfDailyMean.head()"
   ]
  },
  {
   "cell_type": "code",
   "execution_count": 24,
   "metadata": {
    "collapsed": true
   },
   "outputs": [],
   "source": [
    "dfDailyMean.to_pickle('../PklJar/dfDailyWind.pkl')"
   ]
  },
  {
   "cell_type": "code",
   "execution_count": 26,
   "metadata": {
    "collapsed": true
   },
   "outputs": [],
   "source": [
    "def MakeMonthlyIndexRelatedDF(df):\n",
    "    indexbymonth = df[dfVars].groupby(df.index.month).mean()\n",
    "    dfM = df.resample('M').mean()\n",
    "    \n",
    "    dfIndex = pd.DataFrame(index=dfM.index, \n",
    "                       columns=dfM.columns, dtype='f8')\n",
    "    for i in indexbymonth.index:\n",
    "        dfIndex.loc[dfM.index.month==i]=dfM.loc[dfM.index.month==i].subtract(indexbymonth.loc[i])\n",
    "    dfIndex.rename(columns={'EasterlyWS': 'EasterlyWSIndex',\n",
    "                            'SoutherlyWS': 'SoutherlyWSIndex'})\n",
    "    return dfIndex"
   ]
  },
  {
   "cell_type": "code",
   "execution_count": 31,
   "metadata": {
    "collapsed": true
   },
   "outputs": [],
   "source": [
    "dfMoIndex = MakeMonthlyIndexRelatedDF(df)"
   ]
  },
  {
   "cell_type": "code",
   "execution_count": 32,
   "metadata": {
    "collapsed": true
   },
   "outputs": [],
   "source": [
    "dfMoIndex.drop(['ATMP', 'BAR', 'GST', 'WD', 'WSPD'], axis=1, inplace=True)"
   ]
  },
  {
   "cell_type": "code",
   "execution_count": 33,
   "metadata": {
    "collapsed": true
   },
   "outputs": [],
   "source": [
    "dfMoIndex.to_pickle('../PklJar/dfMonthlyWSIndex.pkl')"
   ]
  },
  {
   "cell_type": "code",
   "execution_count": null,
   "metadata": {
    "collapsed": true
   },
   "outputs": [],
   "source": []
  }
 ],
 "metadata": {
  "kernelspec": {
   "display_name": "Python [conda root]",
   "language": "python",
   "name": "conda-root-py"
  },
  "language_info": {
   "codemirror_mode": {
    "name": "ipython",
    "version": 3
   },
   "file_extension": ".py",
   "mimetype": "text/x-python",
   "name": "python",
   "nbconvert_exporter": "python",
   "pygments_lexer": "ipython3",
   "version": "3.5.4"
  }
 },
 "nbformat": 4,
 "nbformat_minor": 2
}

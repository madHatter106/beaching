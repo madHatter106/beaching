{
 "cells": [
  {
   "cell_type": "code",
   "execution_count": 2,
   "metadata": {
    "collapsed": true
   },
   "outputs": [],
   "source": [
    "import numpy as np\n",
    "import pandas as pd\n",
    "import os"
   ]
  },
  {
   "cell_type": "code",
   "execution_count": 3,
   "metadata": {
    "collapsed": true
   },
   "outputs": [],
   "source": [
    "HOME = os.getenv('HOME')"
   ]
  },
  {
   "cell_type": "code",
   "execution_count": 4,
   "metadata": {},
   "outputs": [],
   "source": [
    "fp = '%s/DATA/Beaching_Project/Census/Global_census_6_species/obis_seamap_species_180438_points_csv.csv' % HOME\n",
    "df = pd.read_csv(fp)"
   ]
  },
  {
   "cell_type": "code",
   "execution_count": 6,
   "metadata": {},
   "outputs": [
    {
     "data": {
      "text/plain": [
       "Delphinus delphis    24567\n",
       "Name: scientific, dtype: int64"
      ]
     },
     "execution_count": 6,
     "metadata": {},
     "output_type": "execute_result"
    }
   ],
   "source": [
    "df.scientific.value_counts()"
   ]
  },
  {
   "cell_type": "code",
   "execution_count": 13,
   "metadata": {},
   "outputs": [
    {
     "data": {
      "text/html": [
       "<div>\n",
       "<style>\n",
       "    .dataframe thead tr:only-child th {\n",
       "        text-align: right;\n",
       "    }\n",
       "\n",
       "    .dataframe thead th {\n",
       "        text-align: left;\n",
       "    }\n",
       "\n",
       "    .dataframe tbody tr th {\n",
       "        vertical-align: top;\n",
       "    }\n",
       "</style>\n",
       "<table border=\"1\" class=\"dataframe\">\n",
       "  <thead>\n",
       "    <tr style=\"text-align: right;\">\n",
       "      <th></th>\n",
       "      <th>row_id</th>\n",
       "      <th>depth</th>\n",
       "      <th>count</th>\n",
       "      <th>scientific</th>\n",
       "      <th>common</th>\n",
       "      <th>date_time</th>\n",
       "      <th>datetime_end_utc</th>\n",
       "    </tr>\n",
       "  </thead>\n",
       "  <tbody>\n",
       "    <tr>\n",
       "      <th>0</th>\n",
       "      <td>1423_28</td>\n",
       "      <td>NaN</td>\n",
       "      <td>500.0</td>\n",
       "      <td>Delphinus delphis</td>\n",
       "      <td>saddle-backed dolphin</td>\n",
       "      <td>2011-02-15 15:00:09</td>\n",
       "      <td>NaN</td>\n",
       "    </tr>\n",
       "    <tr>\n",
       "      <th>1</th>\n",
       "      <td>1423_21</td>\n",
       "      <td>NaN</td>\n",
       "      <td>500.0</td>\n",
       "      <td>Delphinus delphis</td>\n",
       "      <td>saddle-backed dolphin</td>\n",
       "      <td>2011-02-15 13:24:04</td>\n",
       "      <td>NaN</td>\n",
       "    </tr>\n",
       "    <tr>\n",
       "      <th>2</th>\n",
       "      <td>1423_13</td>\n",
       "      <td>NaN</td>\n",
       "      <td>20.0</td>\n",
       "      <td>Delphinus delphis</td>\n",
       "      <td>saddle-backed dolphin</td>\n",
       "      <td>2011-02-15 09:54:30</td>\n",
       "      <td>NaN</td>\n",
       "    </tr>\n",
       "    <tr>\n",
       "      <th>3</th>\n",
       "      <td>1423_12</td>\n",
       "      <td>NaN</td>\n",
       "      <td>25.0</td>\n",
       "      <td>Delphinus delphis</td>\n",
       "      <td>saddle-backed dolphin</td>\n",
       "      <td>2011-02-15 09:33:12</td>\n",
       "      <td>NaN</td>\n",
       "    </tr>\n",
       "    <tr>\n",
       "      <th>4</th>\n",
       "      <td>1423_66</td>\n",
       "      <td>NaN</td>\n",
       "      <td>1800.0</td>\n",
       "      <td>Delphinus delphis</td>\n",
       "      <td>saddle-backed dolphin</td>\n",
       "      <td>2011-02-17 14:14:53</td>\n",
       "      <td>NaN</td>\n",
       "    </tr>\n",
       "  </tbody>\n",
       "</table>\n",
       "</div>"
      ],
      "text/plain": [
       "    row_id  depth   count         scientific                 common  \\\n",
       "0  1423_28    NaN   500.0  Delphinus delphis  saddle-backed dolphin   \n",
       "1  1423_21    NaN   500.0  Delphinus delphis  saddle-backed dolphin   \n",
       "2  1423_13    NaN    20.0  Delphinus delphis  saddle-backed dolphin   \n",
       "3  1423_12    NaN    25.0  Delphinus delphis  saddle-backed dolphin   \n",
       "4  1423_66    NaN  1800.0  Delphinus delphis  saddle-backed dolphin   \n",
       "\n",
       "             date_time  datetime_end_utc  \n",
       "0  2011-02-15 15:00:09               NaN  \n",
       "1  2011-02-15 13:24:04               NaN  \n",
       "2  2011-02-15 09:54:30               NaN  \n",
       "3  2011-02-15 09:33:12               NaN  \n",
       "4  2011-02-17 14:14:53               NaN  "
      ]
     },
     "execution_count": 13,
     "metadata": {},
     "output_type": "execute_result"
    }
   ],
   "source": [
    "df[['row_id', 'depth','count','scientific', 'common','date_time', 'datetime_end_utc']].head()"
   ]
  },
  {
   "cell_type": "code",
   "execution_count": 14,
   "metadata": {},
   "outputs": [],
   "source": [
    "dfSmall = df[['row_id', 'latitude', 'longitude', 'date_time', 'count', 'scientific','common']]"
   ]
  },
  {
   "cell_type": "code",
   "execution_count": 17,
   "metadata": {},
   "outputs": [],
   "source": [
    "dfSmall.index = pd.DatetimeIndex(dfSmall.date_time)"
   ]
  },
  {
   "cell_type": "code",
   "execution_count": 18,
   "metadata": {},
   "outputs": [
    {
     "data": {
      "text/html": [
       "<div>\n",
       "<style>\n",
       "    .dataframe thead tr:only-child th {\n",
       "        text-align: right;\n",
       "    }\n",
       "\n",
       "    .dataframe thead th {\n",
       "        text-align: left;\n",
       "    }\n",
       "\n",
       "    .dataframe tbody tr th {\n",
       "        vertical-align: top;\n",
       "    }\n",
       "</style>\n",
       "<table border=\"1\" class=\"dataframe\">\n",
       "  <thead>\n",
       "    <tr style=\"text-align: right;\">\n",
       "      <th></th>\n",
       "      <th>row_id</th>\n",
       "      <th>latitude</th>\n",
       "      <th>longitude</th>\n",
       "      <th>date_time</th>\n",
       "      <th>count</th>\n",
       "      <th>scientific</th>\n",
       "      <th>common</th>\n",
       "    </tr>\n",
       "    <tr>\n",
       "      <th>date_time</th>\n",
       "      <th></th>\n",
       "      <th></th>\n",
       "      <th></th>\n",
       "      <th></th>\n",
       "      <th></th>\n",
       "      <th></th>\n",
       "      <th></th>\n",
       "    </tr>\n",
       "  </thead>\n",
       "  <tbody>\n",
       "    <tr>\n",
       "      <th>2011-02-15 15:00:09</th>\n",
       "      <td>1423_28</td>\n",
       "      <td>33.072167</td>\n",
       "      <td>-117.435000</td>\n",
       "      <td>2011-02-15 15:00:09</td>\n",
       "      <td>500.0</td>\n",
       "      <td>Delphinus delphis</td>\n",
       "      <td>saddle-backed dolphin</td>\n",
       "    </tr>\n",
       "    <tr>\n",
       "      <th>2011-02-15 13:24:04</th>\n",
       "      <td>1423_21</td>\n",
       "      <td>32.924333</td>\n",
       "      <td>-117.401500</td>\n",
       "      <td>2011-02-15 13:24:04</td>\n",
       "      <td>500.0</td>\n",
       "      <td>Delphinus delphis</td>\n",
       "      <td>saddle-backed dolphin</td>\n",
       "    </tr>\n",
       "    <tr>\n",
       "      <th>2011-02-15 09:54:30</th>\n",
       "      <td>1423_13</td>\n",
       "      <td>32.661167</td>\n",
       "      <td>-117.676333</td>\n",
       "      <td>2011-02-15 09:54:30</td>\n",
       "      <td>20.0</td>\n",
       "      <td>Delphinus delphis</td>\n",
       "      <td>saddle-backed dolphin</td>\n",
       "    </tr>\n",
       "    <tr>\n",
       "      <th>2011-02-15 09:33:12</th>\n",
       "      <td>1423_12</td>\n",
       "      <td>32.669667</td>\n",
       "      <td>-117.640500</td>\n",
       "      <td>2011-02-15 09:33:12</td>\n",
       "      <td>25.0</td>\n",
       "      <td>Delphinus delphis</td>\n",
       "      <td>saddle-backed dolphin</td>\n",
       "    </tr>\n",
       "    <tr>\n",
       "      <th>2011-02-17 14:14:53</th>\n",
       "      <td>1423_66</td>\n",
       "      <td>33.358667</td>\n",
       "      <td>-117.810167</td>\n",
       "      <td>2011-02-17 14:14:53</td>\n",
       "      <td>1800.0</td>\n",
       "      <td>Delphinus delphis</td>\n",
       "      <td>saddle-backed dolphin</td>\n",
       "    </tr>\n",
       "  </tbody>\n",
       "</table>\n",
       "</div>"
      ],
      "text/plain": [
       "                      row_id   latitude   longitude            date_time  \\\n",
       "date_time                                                                  \n",
       "2011-02-15 15:00:09  1423_28  33.072167 -117.435000  2011-02-15 15:00:09   \n",
       "2011-02-15 13:24:04  1423_21  32.924333 -117.401500  2011-02-15 13:24:04   \n",
       "2011-02-15 09:54:30  1423_13  32.661167 -117.676333  2011-02-15 09:54:30   \n",
       "2011-02-15 09:33:12  1423_12  32.669667 -117.640500  2011-02-15 09:33:12   \n",
       "2011-02-17 14:14:53  1423_66  33.358667 -117.810167  2011-02-17 14:14:53   \n",
       "\n",
       "                      count         scientific                 common  \n",
       "date_time                                                              \n",
       "2011-02-15 15:00:09   500.0  Delphinus delphis  saddle-backed dolphin  \n",
       "2011-02-15 13:24:04   500.0  Delphinus delphis  saddle-backed dolphin  \n",
       "2011-02-15 09:54:30    20.0  Delphinus delphis  saddle-backed dolphin  \n",
       "2011-02-15 09:33:12    25.0  Delphinus delphis  saddle-backed dolphin  \n",
       "2011-02-17 14:14:53  1800.0  Delphinus delphis  saddle-backed dolphin  "
      ]
     },
     "execution_count": 18,
     "metadata": {},
     "output_type": "execute_result"
    }
   ],
   "source": [
    "dfSmall.head()"
   ]
  },
  {
   "cell_type": "code",
   "execution_count": 19,
   "metadata": {
    "collapsed": true
   },
   "outputs": [],
   "source": [
    "dfSmall.to_pickle('../PklJar/dfDdelphis_census_global.pkl')"
   ]
  },
  {
   "cell_type": "code",
   "execution_count": 20,
   "metadata": {
    "collapsed": true
   },
   "outputs": [],
   "source": [
    "capecodlonlat=(-71,-69,40,43)\n",
    "dfcensusCapeCod = dfSmall.loc[(dfSmall.longitude>capecodlonlat[0])&(dfSmall.longitude<capecodlonlat[1]) & \n",
    "            (dfSmall.latitude>capecodlonlat[2]) & (dfSmall.latitude<capecodlonlat[3]),:]"
   ]
  },
  {
   "cell_type": "code",
   "execution_count": 21,
   "metadata": {},
   "outputs": [
    {
     "name": "stderr",
     "output_type": "stream",
     "text": [
      "/home/madhatter106/anaconda3/lib/python3.5/site-packages/ipykernel/__main__.py:1: SettingWithCopyWarning: \n",
      "A value is trying to be set on a copy of a slice from a DataFrame\n",
      "\n",
      "See the caveats in the documentation: http://pandas.pydata.org/pandas-docs/stable/indexing.html#indexing-view-versus-copy\n",
      "  if __name__ == '__main__':\n"
     ]
    }
   ],
   "source": [
    "dfcensusCapeCod.sort_index(inplace=True)"
   ]
  },
  {
   "cell_type": "code",
   "execution_count": 22,
   "metadata": {},
   "outputs": [
    {
     "data": {
      "text/html": [
       "<div>\n",
       "<style>\n",
       "    .dataframe thead tr:only-child th {\n",
       "        text-align: right;\n",
       "    }\n",
       "\n",
       "    .dataframe thead th {\n",
       "        text-align: left;\n",
       "    }\n",
       "\n",
       "    .dataframe tbody tr th {\n",
       "        vertical-align: top;\n",
       "    }\n",
       "</style>\n",
       "<table border=\"1\" class=\"dataframe\">\n",
       "  <thead>\n",
       "    <tr style=\"text-align: right;\">\n",
       "      <th></th>\n",
       "      <th>row_id</th>\n",
       "      <th>latitude</th>\n",
       "      <th>longitude</th>\n",
       "      <th>date_time</th>\n",
       "      <th>count</th>\n",
       "      <th>scientific</th>\n",
       "      <th>common</th>\n",
       "    </tr>\n",
       "    <tr>\n",
       "      <th>date_time</th>\n",
       "      <th></th>\n",
       "      <th></th>\n",
       "      <th></th>\n",
       "      <th></th>\n",
       "      <th></th>\n",
       "      <th></th>\n",
       "      <th></th>\n",
       "    </tr>\n",
       "  </thead>\n",
       "  <tbody>\n",
       "    <tr>\n",
       "      <th>1974-05-06 05:08:00</th>\n",
       "      <td>284_14945</td>\n",
       "      <td>40.167</td>\n",
       "      <td>-70.367</td>\n",
       "      <td>1974-05-06 05:08:00</td>\n",
       "      <td>5.0</td>\n",
       "      <td>Delphinus delphis</td>\n",
       "      <td>Short-beaked Common Dolphin</td>\n",
       "    </tr>\n",
       "    <tr>\n",
       "      <th>1975-03-18 17:50:00</th>\n",
       "      <td>284_15071</td>\n",
       "      <td>40.083</td>\n",
       "      <td>-70.317</td>\n",
       "      <td>1975-03-18 17:50:00</td>\n",
       "      <td>4.0</td>\n",
       "      <td>Delphinus delphis</td>\n",
       "      <td>Short-beaked Common Dolphin</td>\n",
       "    </tr>\n",
       "    <tr>\n",
       "      <th>1975-03-18 18:15:00</th>\n",
       "      <td>284_15072</td>\n",
       "      <td>40.067</td>\n",
       "      <td>-70.250</td>\n",
       "      <td>1975-03-18 18:15:00</td>\n",
       "      <td>4.0</td>\n",
       "      <td>Delphinus delphis</td>\n",
       "      <td>Short-beaked Common Dolphin</td>\n",
       "    </tr>\n",
       "    <tr>\n",
       "      <th>1976-04-30 00:00:00</th>\n",
       "      <td>284_12246</td>\n",
       "      <td>42.200</td>\n",
       "      <td>-70.133</td>\n",
       "      <td>1976-04-30 00:00:00</td>\n",
       "      <td>45.0</td>\n",
       "      <td>Delphinus delphis</td>\n",
       "      <td>Short-beaked Common Dolphin</td>\n",
       "    </tr>\n",
       "    <tr>\n",
       "      <th>1976-05-13 00:00:00</th>\n",
       "      <td>284_12285</td>\n",
       "      <td>42.950</td>\n",
       "      <td>-69.217</td>\n",
       "      <td>1976-05-13 00:00:00</td>\n",
       "      <td>5.0</td>\n",
       "      <td>Delphinus delphis</td>\n",
       "      <td>Short-beaked Common Dolphin</td>\n",
       "    </tr>\n",
       "  </tbody>\n",
       "</table>\n",
       "</div>"
      ],
      "text/plain": [
       "                        row_id  latitude  longitude            date_time  \\\n",
       "date_time                                                                  \n",
       "1974-05-06 05:08:00  284_14945    40.167    -70.367  1974-05-06 05:08:00   \n",
       "1975-03-18 17:50:00  284_15071    40.083    -70.317  1975-03-18 17:50:00   \n",
       "1975-03-18 18:15:00  284_15072    40.067    -70.250  1975-03-18 18:15:00   \n",
       "1976-04-30 00:00:00  284_12246    42.200    -70.133  1976-04-30 00:00:00   \n",
       "1976-05-13 00:00:00  284_12285    42.950    -69.217  1976-05-13 00:00:00   \n",
       "\n",
       "                     count         scientific                       common  \n",
       "date_time                                                                   \n",
       "1974-05-06 05:08:00    5.0  Delphinus delphis  Short-beaked Common Dolphin  \n",
       "1975-03-18 17:50:00    4.0  Delphinus delphis  Short-beaked Common Dolphin  \n",
       "1975-03-18 18:15:00    4.0  Delphinus delphis  Short-beaked Common Dolphin  \n",
       "1976-04-30 00:00:00   45.0  Delphinus delphis  Short-beaked Common Dolphin  \n",
       "1976-05-13 00:00:00    5.0  Delphinus delphis  Short-beaked Common Dolphin  "
      ]
     },
     "execution_count": 22,
     "metadata": {},
     "output_type": "execute_result"
    }
   ],
   "source": [
    "dfcensusCapeCod.head()"
   ]
  },
  {
   "cell_type": "code",
   "execution_count": 23,
   "metadata": {
    "collapsed": true
   },
   "outputs": [],
   "source": [
    "dfcensusCapeCod.to_pickle('../PklJar/dfDdelphis_census_capecod_all_years.pkl')"
   ]
  },
  {
   "cell_type": "code",
   "execution_count": 28,
   "metadata": {
    "collapsed": true
   },
   "outputs": [],
   "source": [
    "dfCensusCapeCod = dfcensusCapeCod.loc[dfcensusCapeCod.index.year >=1999]"
   ]
  },
  {
   "cell_type": "code",
   "execution_count": 29,
   "metadata": {},
   "outputs": [
    {
     "data": {
      "text/html": [
       "<div>\n",
       "<style>\n",
       "    .dataframe thead tr:only-child th {\n",
       "        text-align: right;\n",
       "    }\n",
       "\n",
       "    .dataframe thead th {\n",
       "        text-align: left;\n",
       "    }\n",
       "\n",
       "    .dataframe tbody tr th {\n",
       "        vertical-align: top;\n",
       "    }\n",
       "</style>\n",
       "<table border=\"1\" class=\"dataframe\">\n",
       "  <thead>\n",
       "    <tr style=\"text-align: right;\">\n",
       "      <th></th>\n",
       "      <th>row_id</th>\n",
       "      <th>latitude</th>\n",
       "      <th>longitude</th>\n",
       "      <th>date_time</th>\n",
       "      <th>count</th>\n",
       "      <th>scientific</th>\n",
       "      <th>common</th>\n",
       "    </tr>\n",
       "    <tr>\n",
       "      <th>date_time</th>\n",
       "      <th></th>\n",
       "      <th></th>\n",
       "      <th></th>\n",
       "      <th></th>\n",
       "      <th></th>\n",
       "      <th></th>\n",
       "      <th></th>\n",
       "    </tr>\n",
       "  </thead>\n",
       "  <tbody>\n",
       "    <tr>\n",
       "      <th>2000-05-03 15:15:56</th>\n",
       "      <td>513_2395</td>\n",
       "      <td>41.797333</td>\n",
       "      <td>-69.523667</td>\n",
       "      <td>2000-05-03 15:15:56</td>\n",
       "      <td>5.0</td>\n",
       "      <td>Delphinus delphis</td>\n",
       "      <td>saddle-backed dolphin</td>\n",
       "    </tr>\n",
       "    <tr>\n",
       "      <th>2001-05-02 13:17:15</th>\n",
       "      <td>513_3367</td>\n",
       "      <td>40.703000</td>\n",
       "      <td>-69.003667</td>\n",
       "      <td>2001-05-02 13:17:15</td>\n",
       "      <td>5.0</td>\n",
       "      <td>Delphinus delphis</td>\n",
       "      <td>saddle-backed dolphin</td>\n",
       "    </tr>\n",
       "    <tr>\n",
       "      <th>2001-06-05 13:30:45</th>\n",
       "      <td>513_79635</td>\n",
       "      <td>40.416833</td>\n",
       "      <td>-70.862667</td>\n",
       "      <td>2001-06-05 13:30:45</td>\n",
       "      <td>30.0</td>\n",
       "      <td>Delphinus delphis</td>\n",
       "      <td>saddle-backed dolphin</td>\n",
       "    </tr>\n",
       "    <tr>\n",
       "      <th>2002-04-17 13:18:23</th>\n",
       "      <td>513_3984</td>\n",
       "      <td>41.365466</td>\n",
       "      <td>-69.082698</td>\n",
       "      <td>2002-04-17 13:18:23</td>\n",
       "      <td>7.0</td>\n",
       "      <td>Delphinus delphis</td>\n",
       "      <td>saddle-backed dolphin</td>\n",
       "    </tr>\n",
       "    <tr>\n",
       "      <th>2002-04-17 15:57:23</th>\n",
       "      <td>513_82601</td>\n",
       "      <td>41.484599</td>\n",
       "      <td>-69.465530</td>\n",
       "      <td>2002-04-17 15:57:23</td>\n",
       "      <td>4.0</td>\n",
       "      <td>Delphinus delphis</td>\n",
       "      <td>saddle-backed dolphin</td>\n",
       "    </tr>\n",
       "  </tbody>\n",
       "</table>\n",
       "</div>"
      ],
      "text/plain": [
       "                        row_id   latitude  longitude            date_time  \\\n",
       "date_time                                                                   \n",
       "2000-05-03 15:15:56   513_2395  41.797333 -69.523667  2000-05-03 15:15:56   \n",
       "2001-05-02 13:17:15   513_3367  40.703000 -69.003667  2001-05-02 13:17:15   \n",
       "2001-06-05 13:30:45  513_79635  40.416833 -70.862667  2001-06-05 13:30:45   \n",
       "2002-04-17 13:18:23   513_3984  41.365466 -69.082698  2002-04-17 13:18:23   \n",
       "2002-04-17 15:57:23  513_82601  41.484599 -69.465530  2002-04-17 15:57:23   \n",
       "\n",
       "                     count         scientific                 common  \n",
       "date_time                                                             \n",
       "2000-05-03 15:15:56    5.0  Delphinus delphis  saddle-backed dolphin  \n",
       "2001-05-02 13:17:15    5.0  Delphinus delphis  saddle-backed dolphin  \n",
       "2001-06-05 13:30:45   30.0  Delphinus delphis  saddle-backed dolphin  \n",
       "2002-04-17 13:18:23    7.0  Delphinus delphis  saddle-backed dolphin  \n",
       "2002-04-17 15:57:23    4.0  Delphinus delphis  saddle-backed dolphin  "
      ]
     },
     "execution_count": 29,
     "metadata": {},
     "output_type": "execute_result"
    }
   ],
   "source": [
    "dfCensusCapeCod.head()"
   ]
  },
  {
   "cell_type": "code",
   "execution_count": 33,
   "metadata": {
    "collapsed": true
   },
   "outputs": [],
   "source": [
    "dfCensusCapeCodDaily = dfCensusCapeCod.resample('D').sum()"
   ]
  },
  {
   "cell_type": "code",
   "execution_count": 30,
   "metadata": {
    "collapsed": true
   },
   "outputs": [],
   "source": [
    "idx = pd.date_range('1999-01-01', '2014-12-31')"
   ]
  },
  {
   "cell_type": "code",
   "execution_count": 31,
   "metadata": {
    "collapsed": true
   },
   "outputs": [],
   "source": [
    "dfCCC = pd.DataFrame(index=idx)"
   ]
  },
  {
   "cell_type": "code",
   "execution_count": 35,
   "metadata": {},
   "outputs": [],
   "source": [
    "dfCCC = dfCCC.merge(dfCensusCapeCodDaily, how='outer', left_index=True, right_index=True)"
   ]
  },
  {
   "cell_type": "code",
   "execution_count": 37,
   "metadata": {},
   "outputs": [],
   "source": [
    "dfCCC.drop(['latitude','longitude'], axis=1, inplace=True)"
   ]
  },
  {
   "cell_type": "code",
   "execution_count": 39,
   "metadata": {
    "collapsed": true
   },
   "outputs": [],
   "source": [
    "dfCCC.meta = {'scientific': 'Delphinus delphis', 'common': 'saddle-backed dolphin'}"
   ]
  },
  {
   "cell_type": "code",
   "execution_count": 45,
   "metadata": {},
   "outputs": [],
   "source": [
    "dfCCC.replace(np.NaN, 0, inplace=True)"
   ]
  },
  {
   "cell_type": "code",
   "execution_count": 46,
   "metadata": {},
   "outputs": [
    {
     "data": {
      "text/plain": [
       "<matplotlib.axes._subplots.AxesSubplot at 0x7f768d9ac208>"
      ]
     },
     "execution_count": 46,
     "metadata": {},
     "output_type": "execute_result"
    },
    {
     "data": {
      "image/png": "[encoded data removed]",
      "text/plain": [
       "<matplotlib.figure.Figure at 0x7f768d7046d8>"
      ]
     },
     "metadata": {},
     "output_type": "display_data"
    }
   ],
   "source": [
    "% matplotlib inline\n",
    "dfCCC.plot()"
   ]
  },
  {
   "cell_type": "code",
   "execution_count": 47,
   "metadata": {},
   "outputs": [
    {
     "data": {
      "text/plain": [
       "(0.0, 2025.0)"
      ]
     },
     "execution_count": 47,
     "metadata": {},
     "output_type": "execute_result"
    }
   ],
   "source": [
    "dfCCC['count'].min(), dfCCC['count'].max()"
   ]
  },
  {
   "cell_type": "code",
   "execution_count": 48,
   "metadata": {
    "collapsed": true
   },
   "outputs": [],
   "source": [
    "dfCCC.to_pickle('../PklJar/dfDdelphis_census_capecod_1999_2014.pkl')"
   ]
  },
  {
   "cell_type": "code",
   "execution_count": null,
   "metadata": {
    "collapsed": true
   },
   "outputs": [],
   "source": []
  }
 ],
 "metadata": {
  "kernelspec": {
   "display_name": "Python [conda root]",
   "language": "python",
   "name": "conda-root-py"
  },
  "language_info": {
   "codemirror_mode": {
    "name": "ipython",
    "version": 3
   },
   "file_extension": ".py",
   "mimetype": "text/x-python",
   "name": "python",
   "nbconvert_exporter": "python",
   "pygments_lexer": "ipython3",
   "version": "3.5.4"
  }
 },
 "nbformat": 4,
 "nbformat_minor": 2
}

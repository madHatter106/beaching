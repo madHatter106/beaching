{
 "cells": [
  {
   "cell_type": "code",
   "execution_count": 1,
   "metadata": {
    "collapsed": true
   },
   "outputs": [],
   "source": [
    "import pandas as pd\n",
    "import numpy as np\n",
    "import matplotlib.pyplot as pl\n",
    "from matplotlib.pyplot import rcParams\n",
    "import seaborn as sb\n",
    "import os\n",
    "import pymc3 as pm"
   ]
  },
  {
   "cell_type": "code",
   "execution_count": 30,
   "metadata": {
    "collapsed": true
   },
   "outputs": [],
   "source": [
    "% matplotlib inline"
   ]
  },
  {
   "cell_type": "code",
   "execution_count": 3,
   "metadata": {
    "collapsed": true
   },
   "outputs": [],
   "source": [
    "sb.reset_defaults()\n",
    "rcParams['axes.formatter.limits'] = (-2, 3)\n",
    "rcParams['xtick.labelsize'] = 14\n",
    "rcParams['ytick.labelsize'] = 14\n",
    "rcParams['font.size'] = 16\n",
    "sb.set(rc=rcParams)"
   ]
  },
  {
   "cell_type": "code",
   "execution_count": 4,
   "metadata": {
    "collapsed": true
   },
   "outputs": [],
   "source": [
    "dataMain = '/home/madhatter106/DATA/Beaching_Project/CapeCodData/'\n",
    "windDir = os.path.join(dataMain, 'wind_44013')"
   ]
  },
  {
   "cell_type": "code",
   "execution_count": 5,
   "metadata": {
    "collapsed": true
   },
   "outputs": [],
   "source": [
    "strandingFp = os.path.join(dataMain,'IFAW Mass Stranding Data 1999-2014 V2.xlsx')"
   ]
  },
  {
   "cell_type": "code",
   "execution_count": 6,
   "metadata": {
    "collapsed": true
   },
   "outputs": [],
   "source": [
    "dfStrand = pd.read_excel(strandingFp, sheetname='RAW')"
   ]
  },
  {
   "cell_type": "code",
   "execution_count": 9,
   "metadata": {
    "collapsed": true
   },
   "outputs": [],
   "source": [
    "dfStrand.drop(['COMMENTS', 'LAT_ACTUAL', 'LON_ACTUAL', 'LAT_ACHIEVED', 'EXAM_DATE',\n",
    "         'EXAM_COND_ID', 'LOCATION', 'NUM_ANIMALS_UNITS'], axis=1, inplace=True)"
   ]
  },
  {
   "cell_type": "code",
   "execution_count": 11,
   "metadata": {
    "collapsed": true
   },
   "outputs": [],
   "source": [
    "dfStrand.drop(['CCSN_NUM'], axis=1, inplace=True)"
   ]
  },
  {
   "cell_type": "code",
   "execution_count": 15,
   "metadata": {
    "collapsed": true
   },
   "outputs": [],
   "source": [
    "dfStrand.drop(['LOCATION_DETAIL'], axis=1, inplace=True)"
   ]
  },
  {
   "cell_type": "code",
   "execution_count": 16,
   "metadata": {},
   "outputs": [
    {
     "name": "stdout",
     "output_type": "stream",
     "text": [
      "<class 'pandas.core.frame.DataFrame'>\n",
      "RangeIndex: 924 entries, 0 to 923\n",
      "Data columns (total 13 columns):\n",
      "REPORT_DATE          924 non-null datetime64[ns]\n",
      "MASS_STRAND_NUM      924 non-null object\n",
      "SERIES_NUM           517 non-null object\n",
      "CONDITION_CODE       924 non-null int64\n",
      "RESTRAND_YN          924 non-null int64\n",
      "GROUP_EVENT_YN       924 non-null int64\n",
      "COW_CALF_YN          924 non-null int64\n",
      "MASS_STRANDING_YN    924 non-null int64\n",
      "NUM_ANIMALS          924 non-null int64\n",
      "TOWN                 924 non-null object\n",
      "LATITUDE_DEGREE      924 non-null float64\n",
      "LONGITUDE_DEGREE     924 non-null float64\n",
      "SPECIES              924 non-null object\n",
      "dtypes: datetime64[ns](1), float64(2), int64(6), object(4)\n",
      "memory usage: 93.9+ KB\n"
     ]
    }
   ],
   "source": [
    "dfStrand.info()"
   ]
  },
  {
   "cell_type": "code",
   "execution_count": 19,
   "metadata": {
    "collapsed": true
   },
   "outputs": [],
   "source": [
    "dfStrand.drop(['SERIES_NUM'], axis=1, inplace=True)"
   ]
  },
  {
   "cell_type": "code",
   "execution_count": 43,
   "metadata": {},
   "outputs": [
    {
     "data": {
      "text/plain": [
       "1999     61\n",
       "2000     19\n",
       "2001      8\n",
       "2002     95\n",
       "2003     41\n",
       "2004      7\n",
       "2005     84\n",
       "2006    107\n",
       "2007     45\n",
       "2008     28\n",
       "2009     37\n",
       "2010     69\n",
       "2011     51\n",
       "2012    240\n",
       "2013     16\n",
       "2014     16\n",
       "Name: REPORT_DATE, dtype: int64"
      ]
     },
     "execution_count": 43,
     "metadata": {},
     "output_type": "execute_result"
    }
   ],
   "source": [
    "dfStrand.REPORT_DATE.dt.year.value_counts().sort_index()"
   ]
  },
  {
   "cell_type": "code",
   "execution_count": 44,
   "metadata": {},
   "outputs": [
    {
     "data": {
      "text/plain": [
       "<matplotlib.axes._subplots.AxesSubplot at 0x7fd1b52fb198>"
      ]
     },
     "execution_count": 44,
     "metadata": {},
     "output_type": "execute_result"
    },
    {
     "data": {
      "image/png": "[encoded data removed]",
      "text/plain": [
       "<matplotlib.figure.Figure at 0x7fd1b52fee80>"
      ]
     },
     "metadata": {},
     "output_type": "display_data"
    }
   ],
   "source": [
    "dfStrand.REPORT_DATE.dt.year.value_counts().sort_index().plot(ls='', marker='.')"
   ]
  },
  {
   "cell_type": "markdown",
   "metadata": {},
   "source": [
    "This is weird. I need to look at the census data"
   ]
  },
  {
   "cell_type": "code",
   "execution_count": 36,
   "metadata": {
    "collapsed": true
   },
   "outputs": [],
   "source": [
    "dfStrand.to_pickle(os.path.join(dataMain, 'dfStrand.pkl'))"
   ]
  },
  {
   "cell_type": "code",
   "execution_count": null,
   "metadata": {
    "collapsed": true
   },
   "outputs": [],
   "source": []
  }
 ],
 "metadata": {
  "kernelspec": {
   "display_name": "Python [conda root]",
   "language": "python",
   "name": "conda-root-py"
  },
  "language_info": {
   "codemirror_mode": {
    "name": "ipython",
    "version": 3
   },
   "file_extension": ".py",
   "mimetype": "text/x-python",
   "name": "python",
   "nbconvert_exporter": "python",
   "pygments_lexer": "ipython3",
   "version": "3.5.3"
  }
 },
 "nbformat": 4,
 "nbformat_minor": 2
}

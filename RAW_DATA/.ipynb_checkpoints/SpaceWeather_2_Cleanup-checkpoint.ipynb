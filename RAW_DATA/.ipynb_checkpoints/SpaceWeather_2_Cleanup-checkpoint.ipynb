{
 "cells": [
  {
   "cell_type": "code",
   "execution_count": 1,
   "metadata": {
    "collapsed": true
   },
   "outputs": [],
   "source": [
    "import pandas as pd\n",
    "import numpy as np\n",
    "import matplotlib.pyplot as pl\n",
    "from seaborn import heatmap\n",
    "from matplotlib import rcParams\n",
    "from pandas.plotting import scatter_matrix"
   ]
  },
  {
   "cell_type": "code",
   "execution_count": 2,
   "metadata": {
    "collapsed": true
   },
   "outputs": [],
   "source": [
    "% matplotlib inline"
   ]
  },
  {
   "cell_type": "code",
   "execution_count": 3,
   "metadata": {
    "collapsed": true
   },
   "outputs": [],
   "source": [
    "df = pd.read_pickle('../PklJar/dfSpaceWeather.pkl')"
   ]
  },
  {
   "cell_type": "code",
   "execution_count": 4,
   "metadata": {},
   "outputs": [
    {
     "data": {
      "text/html": [
       "<div>\n",
       "<style>\n",
       "    .dataframe thead tr:only-child th {\n",
       "        text-align: right;\n",
       "    }\n",
       "\n",
       "    .dataframe thead th {\n",
       "        text-align: left;\n",
       "    }\n",
       "\n",
       "    .dataframe tbody tr th {\n",
       "        vertical-align: top;\n",
       "    }\n",
       "</style>\n",
       "<table border=\"1\" class=\"dataframe\">\n",
       "  <thead>\n",
       "    <tr style=\"text-align: right;\">\n",
       "      <th></th>\n",
       "      <th>Kp_index</th>\n",
       "      <th>Sunspot_No</th>\n",
       "      <th>Dst_index</th>\n",
       "      <th>AE_index</th>\n",
       "      <th>Proton_flux_gt30MeV</th>\n",
       "      <th>Proton_flux_gt60MeV</th>\n",
       "    </tr>\n",
       "    <tr>\n",
       "      <th>datetime</th>\n",
       "      <th></th>\n",
       "      <th></th>\n",
       "      <th></th>\n",
       "      <th></th>\n",
       "      <th></th>\n",
       "      <th></th>\n",
       "    </tr>\n",
       "  </thead>\n",
       "  <tbody>\n",
       "    <tr>\n",
       "      <th>1990-01-01 00:00:00</th>\n",
       "      <td>20</td>\n",
       "      <td>239</td>\n",
       "      <td>-45</td>\n",
       "      <td>54</td>\n",
       "      <td>99999.99</td>\n",
       "      <td>99999.99</td>\n",
       "    </tr>\n",
       "    <tr>\n",
       "      <th>1990-01-01 01:00:00</th>\n",
       "      <td>20</td>\n",
       "      <td>239</td>\n",
       "      <td>-46</td>\n",
       "      <td>44</td>\n",
       "      <td>99999.99</td>\n",
       "      <td>99999.99</td>\n",
       "    </tr>\n",
       "    <tr>\n",
       "      <th>1990-01-01 02:00:00</th>\n",
       "      <td>20</td>\n",
       "      <td>239</td>\n",
       "      <td>-44</td>\n",
       "      <td>35</td>\n",
       "      <td>99999.99</td>\n",
       "      <td>99999.99</td>\n",
       "    </tr>\n",
       "    <tr>\n",
       "      <th>1990-01-01 03:00:00</th>\n",
       "      <td>30</td>\n",
       "      <td>239</td>\n",
       "      <td>-43</td>\n",
       "      <td>66</td>\n",
       "      <td>99999.99</td>\n",
       "      <td>99999.99</td>\n",
       "    </tr>\n",
       "    <tr>\n",
       "      <th>1990-01-01 04:00:00</th>\n",
       "      <td>30</td>\n",
       "      <td>239</td>\n",
       "      <td>-47</td>\n",
       "      <td>152</td>\n",
       "      <td>99999.99</td>\n",
       "      <td>99999.99</td>\n",
       "    </tr>\n",
       "  </tbody>\n",
       "</table>\n",
       "</div>"
      ],
      "text/plain": [
       "                     Kp_index  Sunspot_No  Dst_index  AE_index  \\\n",
       "datetime                                                         \n",
       "1990-01-01 00:00:00        20         239        -45        54   \n",
       "1990-01-01 01:00:00        20         239        -46        44   \n",
       "1990-01-01 02:00:00        20         239        -44        35   \n",
       "1990-01-01 03:00:00        30         239        -43        66   \n",
       "1990-01-01 04:00:00        30         239        -47       152   \n",
       "\n",
       "                     Proton_flux_gt30MeV  Proton_flux_gt60MeV  \n",
       "datetime                                                       \n",
       "1990-01-01 00:00:00             99999.99             99999.99  \n",
       "1990-01-01 01:00:00             99999.99             99999.99  \n",
       "1990-01-01 02:00:00             99999.99             99999.99  \n",
       "1990-01-01 03:00:00             99999.99             99999.99  \n",
       "1990-01-01 04:00:00             99999.99             99999.99  "
      ]
     },
     "execution_count": 4,
     "metadata": {},
     "output_type": "execute_result"
    }
   ],
   "source": [
    "df.head()"
   ]
  },
  {
   "cell_type": "code",
   "execution_count": 7,
   "metadata": {
    "collapsed": true
   },
   "outputs": [],
   "source": [
    "df.replace(99999.99, np.NaN, inplace=True)"
   ]
  },
  {
   "cell_type": "code",
   "execution_count": 8,
   "metadata": {},
   "outputs": [
    {
     "data": {
      "text/html": [
       "<div>\n",
       "<style>\n",
       "    .dataframe thead tr:only-child th {\n",
       "        text-align: right;\n",
       "    }\n",
       "\n",
       "    .dataframe thead th {\n",
       "        text-align: left;\n",
       "    }\n",
       "\n",
       "    .dataframe tbody tr th {\n",
       "        vertical-align: top;\n",
       "    }\n",
       "</style>\n",
       "<table border=\"1\" class=\"dataframe\">\n",
       "  <thead>\n",
       "    <tr style=\"text-align: right;\">\n",
       "      <th></th>\n",
       "      <th>Kp_index</th>\n",
       "      <th>Sunspot_No</th>\n",
       "      <th>Dst_index</th>\n",
       "      <th>AE_index</th>\n",
       "      <th>Proton_flux_gt30MeV</th>\n",
       "      <th>Proton_flux_gt60MeV</th>\n",
       "    </tr>\n",
       "    <tr>\n",
       "      <th>datetime</th>\n",
       "      <th></th>\n",
       "      <th></th>\n",
       "      <th></th>\n",
       "      <th></th>\n",
       "      <th></th>\n",
       "      <th></th>\n",
       "    </tr>\n",
       "  </thead>\n",
       "  <tbody>\n",
       "    <tr>\n",
       "      <th>1990-01-01 00:00:00</th>\n",
       "      <td>20</td>\n",
       "      <td>239</td>\n",
       "      <td>-45</td>\n",
       "      <td>54</td>\n",
       "      <td>NaN</td>\n",
       "      <td>NaN</td>\n",
       "    </tr>\n",
       "    <tr>\n",
       "      <th>1990-01-01 01:00:00</th>\n",
       "      <td>20</td>\n",
       "      <td>239</td>\n",
       "      <td>-46</td>\n",
       "      <td>44</td>\n",
       "      <td>NaN</td>\n",
       "      <td>NaN</td>\n",
       "    </tr>\n",
       "    <tr>\n",
       "      <th>1990-01-01 02:00:00</th>\n",
       "      <td>20</td>\n",
       "      <td>239</td>\n",
       "      <td>-44</td>\n",
       "      <td>35</td>\n",
       "      <td>NaN</td>\n",
       "      <td>NaN</td>\n",
       "    </tr>\n",
       "    <tr>\n",
       "      <th>1990-01-01 03:00:00</th>\n",
       "      <td>30</td>\n",
       "      <td>239</td>\n",
       "      <td>-43</td>\n",
       "      <td>66</td>\n",
       "      <td>NaN</td>\n",
       "      <td>NaN</td>\n",
       "    </tr>\n",
       "    <tr>\n",
       "      <th>1990-01-01 04:00:00</th>\n",
       "      <td>30</td>\n",
       "      <td>239</td>\n",
       "      <td>-47</td>\n",
       "      <td>152</td>\n",
       "      <td>NaN</td>\n",
       "      <td>NaN</td>\n",
       "    </tr>\n",
       "  </tbody>\n",
       "</table>\n",
       "</div>"
      ],
      "text/plain": [
       "                     Kp_index  Sunspot_No  Dst_index  AE_index  \\\n",
       "datetime                                                         \n",
       "1990-01-01 00:00:00        20         239        -45        54   \n",
       "1990-01-01 01:00:00        20         239        -46        44   \n",
       "1990-01-01 02:00:00        20         239        -44        35   \n",
       "1990-01-01 03:00:00        30         239        -43        66   \n",
       "1990-01-01 04:00:00        30         239        -47       152   \n",
       "\n",
       "                     Proton_flux_gt30MeV  Proton_flux_gt60MeV  \n",
       "datetime                                                       \n",
       "1990-01-01 00:00:00                  NaN                  NaN  \n",
       "1990-01-01 01:00:00                  NaN                  NaN  \n",
       "1990-01-01 02:00:00                  NaN                  NaN  \n",
       "1990-01-01 03:00:00                  NaN                  NaN  \n",
       "1990-01-01 04:00:00                  NaN                  NaN  "
      ]
     },
     "execution_count": 8,
     "metadata": {},
     "output_type": "execute_result"
    }
   ],
   "source": [
    "df.head()"
   ]
  },
  {
   "cell_type": "code",
   "execution_count": 9,
   "metadata": {},
   "outputs": [
    {
     "name": "stdout",
     "output_type": "stream",
     "text": [
      "<class 'pandas.core.frame.DataFrame'>\n",
      "DatetimeIndex: 237432 entries, 1990-01-01 00:00:00 to 2017-01-31 23:00:00\n",
      "Data columns (total 6 columns):\n",
      "Kp_index               237432 non-null int64\n",
      "Sunspot_No             237432 non-null int64\n",
      "Dst_index              237432 non-null int64\n",
      "AE_index               237432 non-null int64\n",
      "Proton_flux_gt30MeV    185764 non-null float64\n",
      "Proton_flux_gt60MeV    185750 non-null float64\n",
      "dtypes: float64(2), int64(4)\n",
      "memory usage: 22.7 MB\n"
     ]
    }
   ],
   "source": [
    "df.info()"
   ]
  },
  {
   "cell_type": "code",
   "execution_count": 10,
   "metadata": {
    "collapsed": true
   },
   "outputs": [],
   "source": [
    "dfDaily = df.resample('D').mean()"
   ]
  },
  {
   "cell_type": "code",
   "execution_count": 11,
   "metadata": {},
   "outputs": [
    {
     "name": "stdout",
     "output_type": "stream",
     "text": [
      "<class 'pandas.core.frame.DataFrame'>\n",
      "DatetimeIndex: 9893 entries, 1990-01-01 to 2017-01-31\n",
      "Freq: D\n",
      "Data columns (total 6 columns):\n",
      "Kp_index               9893 non-null float64\n",
      "Sunspot_No             9893 non-null float64\n",
      "Dst_index              9893 non-null float64\n",
      "AE_index               9893 non-null float64\n",
      "Proton_flux_gt30MeV    9341 non-null float64\n",
      "Proton_flux_gt60MeV    9341 non-null float64\n",
      "dtypes: float64(6)\n",
      "memory usage: 541.0 KB\n"
     ]
    }
   ],
   "source": [
    "dfDaily.info()"
   ]
  },
  {
   "cell_type": "code",
   "execution_count": 12,
   "metadata": {},
   "outputs": [
    {
     "data": {
      "text/html": [
       "<div>\n",
       "<style>\n",
       "    .dataframe thead tr:only-child th {\n",
       "        text-align: right;\n",
       "    }\n",
       "\n",
       "    .dataframe thead th {\n",
       "        text-align: left;\n",
       "    }\n",
       "\n",
       "    .dataframe tbody tr th {\n",
       "        vertical-align: top;\n",
       "    }\n",
       "</style>\n",
       "<table border=\"1\" class=\"dataframe\">\n",
       "  <thead>\n",
       "    <tr style=\"text-align: right;\">\n",
       "      <th></th>\n",
       "      <th>Kp_index</th>\n",
       "      <th>Sunspot_No</th>\n",
       "      <th>Dst_index</th>\n",
       "      <th>AE_index</th>\n",
       "      <th>Proton_flux_gt30MeV</th>\n",
       "      <th>Proton_flux_gt60MeV</th>\n",
       "    </tr>\n",
       "  </thead>\n",
       "  <tbody>\n",
       "    <tr>\n",
       "      <th>count</th>\n",
       "      <td>9893.000000</td>\n",
       "      <td>9893.000000</td>\n",
       "      <td>9893.000000</td>\n",
       "      <td>9893.000000</td>\n",
       "      <td>9341.000000</td>\n",
       "      <td>9341.000000</td>\n",
       "    </tr>\n",
       "    <tr>\n",
       "      <th>mean</th>\n",
       "      <td>20.090519</td>\n",
       "      <td>81.704842</td>\n",
       "      <td>-14.520701</td>\n",
       "      <td>194.773337</td>\n",
       "      <td>1.865737</td>\n",
       "      <td>0.843783</td>\n",
       "    </tr>\n",
       "    <tr>\n",
       "      <th>std</th>\n",
       "      <td>11.861026</td>\n",
       "      <td>71.043186</td>\n",
       "      <td>19.857195</td>\n",
       "      <td>148.747372</td>\n",
       "      <td>33.141289</td>\n",
       "      <td>12.487003</td>\n",
       "    </tr>\n",
       "    <tr>\n",
       "      <th>min</th>\n",
       "      <td>0.000000</td>\n",
       "      <td>0.000000</td>\n",
       "      <td>-222.541667</td>\n",
       "      <td>7.375000</td>\n",
       "      <td>0.057917</td>\n",
       "      <td>0.040417</td>\n",
       "    </tr>\n",
       "    <tr>\n",
       "      <th>25%</th>\n",
       "      <td>10.875000</td>\n",
       "      <td>23.000000</td>\n",
       "      <td>-21.750000</td>\n",
       "      <td>83.000000</td>\n",
       "      <td>0.104167</td>\n",
       "      <td>0.074167</td>\n",
       "    </tr>\n",
       "    <tr>\n",
       "      <th>50%</th>\n",
       "      <td>18.375000</td>\n",
       "      <td>65.000000</td>\n",
       "      <td>-10.583333</td>\n",
       "      <td>151.416667</td>\n",
       "      <td>0.250000</td>\n",
       "      <td>0.212000</td>\n",
       "    </tr>\n",
       "    <tr>\n",
       "      <th>75%</th>\n",
       "      <td>27.500000</td>\n",
       "      <td>126.000000</td>\n",
       "      <td>-2.083333</td>\n",
       "      <td>269.708333</td>\n",
       "      <td>0.551579</td>\n",
       "      <td>0.436000</td>\n",
       "    </tr>\n",
       "    <tr>\n",
       "      <th>max</th>\n",
       "      <td>78.000000</td>\n",
       "      <td>410.000000</td>\n",
       "      <td>34.500000</td>\n",
       "      <td>1111.083333</td>\n",
       "      <td>1942.000000</td>\n",
       "      <td>693.083333</td>\n",
       "    </tr>\n",
       "  </tbody>\n",
       "</table>\n",
       "</div>"
      ],
      "text/plain": [
       "          Kp_index   Sunspot_No    Dst_index     AE_index  \\\n",
       "count  9893.000000  9893.000000  9893.000000  9893.000000   \n",
       "mean     20.090519    81.704842   -14.520701   194.773337   \n",
       "std      11.861026    71.043186    19.857195   148.747372   \n",
       "min       0.000000     0.000000  -222.541667     7.375000   \n",
       "25%      10.875000    23.000000   -21.750000    83.000000   \n",
       "50%      18.375000    65.000000   -10.583333   151.416667   \n",
       "75%      27.500000   126.000000    -2.083333   269.708333   \n",
       "max      78.000000   410.000000    34.500000  1111.083333   \n",
       "\n",
       "       Proton_flux_gt30MeV  Proton_flux_gt60MeV  \n",
       "count          9341.000000          9341.000000  \n",
       "mean              1.865737             0.843783  \n",
       "std              33.141289            12.487003  \n",
       "min               0.057917             0.040417  \n",
       "25%               0.104167             0.074167  \n",
       "50%               0.250000             0.212000  \n",
       "75%               0.551579             0.436000  \n",
       "max            1942.000000           693.083333  "
      ]
     },
     "execution_count": 12,
     "metadata": {},
     "output_type": "execute_result"
    }
   ],
   "source": [
    "dfDaily.describe()"
   ]
  },
  {
   "cell_type": "code",
   "execution_count": 13,
   "metadata": {},
   "outputs": [
    {
     "data": {
      "image/png": "[encoded data removed]",
      "text/plain": [
       "<matplotlib.figure.Figure at 0x7ffa3ac74a58>"
      ]
     },
     "metadata": {},
     "output_type": "display_data"
    }
   ],
   "source": [
    "heatmap(dfDaily.corr(), annot=True, mask=np.triu(np.ones((6,6))));"
   ]
  },
  {
   "cell_type": "code",
   "execution_count": 14,
   "metadata": {
    "collapsed": true
   },
   "outputs": [],
   "source": [
    "dfDaily.to_pickle('../PklJar/dfSpaceWeatherDaily.pkl')"
   ]
  },
  {
   "cell_type": "code",
   "execution_count": null,
   "metadata": {
    "collapsed": true
   },
   "outputs": [],
   "source": []
  }
 ],
 "metadata": {
  "kernelspec": {
   "display_name": "Python 3",
   "language": "python",
   "name": "python3"
  },
  "language_info": {
   "codemirror_mode": {
    "name": "ipython",
    "version": 3
   },
   "file_extension": ".py",
   "mimetype": "text/x-python",
   "name": "python",
   "nbconvert_exporter": "python",
   "pygments_lexer": "ipython3",
   "version": "3.6.2"
  }
 },
 "nbformat": 4,
 "nbformat_minor": 2
}

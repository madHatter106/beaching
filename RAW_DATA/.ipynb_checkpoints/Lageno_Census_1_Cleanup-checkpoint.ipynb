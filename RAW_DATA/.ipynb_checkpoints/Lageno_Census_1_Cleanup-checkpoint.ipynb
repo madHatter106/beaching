{
 "cells": [
  {
   "cell_type": "code",
   "execution_count": 1,
   "metadata": {
    "collapsed": true
   },
   "outputs": [],
   "source": [
    "import numpy as np\n",
    "import pandas as pd\n",
    "import matplotlib.pyplot as pl\n",
    "import seaborn as sb\n",
    "import os"
   ]
  },
  {
   "cell_type": "code",
   "execution_count": 2,
   "metadata": {
    "collapsed": true
   },
   "outputs": [],
   "source": [
    "%matplotlib inline"
   ]
  },
  {
   "cell_type": "code",
   "execution_count": 4,
   "metadata": {
    "collapsed": true
   },
   "outputs": [],
   "source": [
    "dataMain = '/home/madhatter106/DATA/Beaching_Project/CapeCodData/PklJar/'"
   ]
  },
  {
   "cell_type": "code",
   "execution_count": 6,
   "metadata": {
    "collapsed": true
   },
   "outputs": [],
   "source": [
    "dfCensus = pd.read_pickle(os.path.join(dataMain, 'dfcensus.pkl'))"
   ]
  },
  {
   "cell_type": "code",
   "execution_count": 8,
   "metadata": {},
   "outputs": [
    {
     "name": "stdout",
     "output_type": "stream",
     "text": [
      "<class 'pandas.core.frame.DataFrame'>\n",
      "RangeIndex: 6924 entries, 0 to 6923\n",
      "Data columns (total 10 columns):\n",
      "id            6924 non-null int64\n",
      "dataset_id    6924 non-null int64\n",
      "row_id        6924 non-null object\n",
      "series_id     6924 non-null object\n",
      "scientific    6924 non-null object\n",
      "common        6924 non-null object\n",
      "latitude      6924 non-null float64\n",
      "longitude     6924 non-null float64\n",
      "date_time     6917 non-null datetime64[ns]\n",
      "count         6850 non-null float64\n",
      "dtypes: datetime64[ns](1), float64(3), int64(2), object(4)\n",
      "memory usage: 541.0+ KB\n"
     ]
    }
   ],
   "source": [
    "dfCensus.info()"
   ]
  },
  {
   "cell_type": "code",
   "execution_count": 10,
   "metadata": {
    "collapsed": true
   },
   "outputs": [],
   "source": [
    "dfcensus = dfCensus.loc[(dfCensus.date_time.dt.year>=1999) & \n",
    "                       (dfCensus.date_time.dt.year<2015),:]"
   ]
  },
  {
   "cell_type": "code",
   "execution_count": 11,
   "metadata": {},
   "outputs": [
    {
     "name": "stdout",
     "output_type": "stream",
     "text": [
      "<class 'pandas.core.frame.DataFrame'>\n",
      "Int64Index: 3728 entries, 0 to 6922\n",
      "Data columns (total 10 columns):\n",
      "id            3728 non-null int64\n",
      "dataset_id    3728 non-null int64\n",
      "row_id        3728 non-null object\n",
      "series_id     3728 non-null object\n",
      "scientific    3728 non-null object\n",
      "common        3728 non-null object\n",
      "latitude      3728 non-null float64\n",
      "longitude     3728 non-null float64\n",
      "date_time     3728 non-null datetime64[ns]\n",
      "count         3701 non-null float64\n",
      "dtypes: datetime64[ns](1), float64(3), int64(2), object(4)\n",
      "memory usage: 320.4+ KB\n"
     ]
    }
   ],
   "source": [
    "dfcensus"
   ]
  },
  {
   "cell_type": "code",
   "execution_count": 14,
   "metadata": {},
   "outputs": [
    {
     "data": {
      "text/plain": [
       "(31.25, 63.343000000000004)"
      ]
     },
     "execution_count": 14,
     "metadata": {},
     "output_type": "execute_result"
    }
   ],
   "source": [
    "dfcensus.latitude.min(), dfcensus.latitude.max()"
   ]
  },
  {
   "cell_type": "code",
   "execution_count": 15,
   "metadata": {},
   "outputs": [
    {
     "data": {
      "text/plain": [
       "(-77.323329999999999, 2.3399999999999999)"
      ]
     },
     "execution_count": 15,
     "metadata": {},
     "output_type": "execute_result"
    }
   ],
   "source": [
    "dfcensus.longitude.min(), dfcensus.longitude.max()"
   ]
  },
  {
   "cell_type": "code",
   "execution_count": 16,
   "metadata": {
    "collapsed": true
   },
   "outputs": [],
   "source": [
    "capecodlonlat=(-71,-69,40,43)"
   ]
  },
  {
   "cell_type": "code",
   "execution_count": 18,
   "metadata": {
    "collapsed": true
   },
   "outputs": [],
   "source": [
    "dfcensusCapeCod = dfcensus.loc[(dfcensus.longitude>-71)&(dfcensus.longitude<-69) & \n",
    "            (dfcensus.latitude>40) & (dfcensus.latitude<43),:]"
   ]
  },
  {
   "cell_type": "code",
   "execution_count": 19,
   "metadata": {
    "collapsed": true
   },
   "outputs": [],
   "source": [
    "dfcensus.to_pickle(os.path.join(dataMain,'dfCensusYearOverlapWithStrandingV2.pkl'))\n",
    "dfcensusCapeCod.to_pickle(os.path.join(dataMain, 'dfCensusCapeCodYearOverlapWithStrV2.pkl'))"
   ]
  },
  {
   "cell_type": "code",
   "execution_count": 20,
   "metadata": {},
   "outputs": [
    {
     "name": "stdout",
     "output_type": "stream",
     "text": [
      "<class 'pandas.core.frame.DataFrame'>\n",
      "Int64Index: 1056 entries, 1 to 6899\n",
      "Data columns (total 10 columns):\n",
      "id            1056 non-null int64\n",
      "dataset_id    1056 non-null int64\n",
      "row_id        1056 non-null object\n",
      "series_id     1056 non-null object\n",
      "scientific    1056 non-null object\n",
      "common        1056 non-null object\n",
      "latitude      1056 non-null float64\n",
      "longitude     1056 non-null float64\n",
      "date_time     1056 non-null datetime64[ns]\n",
      "count         1056 non-null float64\n",
      "dtypes: datetime64[ns](1), float64(3), int64(2), object(4)\n",
      "memory usage: 130.8+ KB\n"
     ]
    }
   ],
   "source": [
    "dfcensusCapeCod.info()"
   ]
  },
  {
   "cell_type": "code",
   "execution_count": 5,
   "metadata": {
    "collapsed": true
   },
   "outputs": [],
   "source": [
    "dfcensusCapeCod = pd.read_pickle(os.path.join(dataMain,\n",
    "                                              'dfCensusCapeCodYearOverlapWithStrV2.pkl'))"
   ]
  },
  {
   "cell_type": "code",
   "execution_count": 7,
   "metadata": {},
   "outputs": [],
   "source": [
    "dfcensusCapeCod.drop(['id', 'dataset_id', 'series_id'], axis=1, inplace=True)"
   ]
  },
  {
   "cell_type": "code",
   "execution_count": 8,
   "metadata": {
    "collapsed": true
   },
   "outputs": [],
   "source": [
    "dfcensusCapeCod.to_pickle(os.path.join(dataMain,\n",
    "                                              'dfCensusCapeCodYearOverlapWithStrV2.pkl'))"
   ]
  },
  {
   "cell_type": "code",
   "execution_count": null,
   "metadata": {
    "collapsed": true
   },
   "outputs": [],
   "source": []
  }
 ],
 "metadata": {
  "kernelspec": {
   "display_name": "Python [conda root]",
   "language": "python",
   "name": "conda-root-py"
  },
  "language_info": {
   "codemirror_mode": {
    "name": "ipython",
    "version": 3
   },
   "file_extension": ".py",
   "mimetype": "text/x-python",
   "name": "python",
   "nbconvert_exporter": "python",
   "pygments_lexer": "ipython3",
   "version": "3.5.3"
  }
 },
 "nbformat": 4,
 "nbformat_minor": 2
}
